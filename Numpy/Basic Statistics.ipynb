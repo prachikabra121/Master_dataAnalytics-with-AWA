{
 "cells": [
  {
   "cell_type": "markdown",
   "id": "560ab38d-b9e1-41cf-a1be-b45201059a59",
   "metadata": {},
   "source": [
    "<h1>Descriptive\n",
    "</h1>"
   ]
  },
  {
   "cell_type": "code",
   "execution_count": 2,
   "id": "3b8fa12a-d466-47b6-935b-02e3fc181399",
   "metadata": {},
   "outputs": [
    {
     "name": "stdout",
     "output_type": "stream",
     "text": [
      "3.0\n"
     ]
    }
   ],
   "source": [
    "#Mean\n",
    "import numpy as np\n",
    "data = [1, 2, 3, 4, 5]\n",
    "print(np.mean(data))  # Output: 3.0\n"
   ]
  },
  {
   "cell_type": "code",
   "execution_count": 3,
   "id": "b9fa47e8-4511-4dad-a717-4e46fb237337",
   "metadata": {},
   "outputs": [
    {
     "name": "stdout",
     "output_type": "stream",
     "text": [
      "3.0\n"
     ]
    }
   ],
   "source": [
    "#Median\n",
    "print(np.median(data))  # Output: 3.0\n"
   ]
  },
  {
   "cell_type": "markdown",
   "id": "a5154e63-5608-40c8-9bbb-59a89beba1bb",
   "metadata": {},
   "source": [
    "<img src ='Median.png'>\n"
   ]
  },
  {
   "cell_type": "code",
   "execution_count": 4,
   "id": "fae204ce-898f-45cd-af63-608d69a61942",
   "metadata": {},
   "outputs": [
    {
     "name": "stdout",
     "output_type": "stream",
     "text": [
      "2.0\n"
     ]
    }
   ],
   "source": [
    "#Variance\n",
    "print(np.var(data))  # Output: 2.0\n"
   ]
  },
  {
   "cell_type": "markdown",
   "id": "a911ecbb-4cd9-48fb-a157-695dc4538b66",
   "metadata": {},
   "source": [
    "<h3>The variance is a measure of the spread or dispersion of a dataset. It quantifies how far each data point is from the mean. A higher variance indicates that the data points are more spread out from the mean, while a lower variance indicates that they are closer to the mean.</h3>"
   ]
  },
  {
   "cell_type": "markdown",
   "id": "1a852a79-30dd-4121-86bc-f1e68efc2539",
   "metadata": {},
   "source": [
    "<img src='var1.png'>\n",
    "<img src='var2.png'>"
   ]
  },
  {
   "cell_type": "code",
   "execution_count": 5,
   "id": "10e46a80-3dcc-4f62-a1ef-8228886326d9",
   "metadata": {},
   "outputs": [
    {
     "name": "stdout",
     "output_type": "stream",
     "text": [
      "1.4142135623730951\n"
     ]
    }
   ],
   "source": [
    "#std \n",
    "\n",
    "print(np.std(data))  # Output: 1.4142135623730951\n"
   ]
  },
  {
   "cell_type": "markdown",
   "id": "8e8037bd-b646-44bb-a685-0c7a8f2c4a9c",
   "metadata": {},
   "source": [
    "<h3>The standard deviation is a measure of the spread or dispersion of a dataset. It is the square root of the variance, \n",
    "</h3>"
   ]
  },
  {
   "cell_type": "code",
   "execution_count": 6,
   "id": "677bc7d9-7a61-4eb2-b27d-7ef3bfca01f8",
   "metadata": {},
   "outputs": [
    {
     "name": "stdout",
     "output_type": "stream",
     "text": [
      "15\n"
     ]
    }
   ],
   "source": [
    "print(np.sum(data))  # Output: 15\n"
   ]
  },
  {
   "cell_type": "code",
   "execution_count": 7,
   "id": "e31938bb-a2bd-406d-a823-df8d9e3e2378",
   "metadata": {},
   "outputs": [
    {
     "name": "stdout",
     "output_type": "stream",
     "text": [
      "120\n"
     ]
    }
   ],
   "source": [
    "print(np.prod(data))  # Output: 120\n"
   ]
  },
  {
   "cell_type": "code",
   "execution_count": 8,
   "id": "3eecadc8-2da6-4315-afa7-efa714f599a0",
   "metadata": {},
   "outputs": [
    {
     "name": "stdout",
     "output_type": "stream",
     "text": [
      "3.0\n"
     ]
    }
   ],
   "source": [
    "#Percentiles and Quantiles\n",
    "#Percentiles\n",
    "print(np.percentile(data, 50))  # Output: 3.0 (Median)\n"
   ]
  },
  {
   "cell_type": "markdown",
   "id": "377551c3-8e5d-48f2-9257-e394f2e00cb6",
   "metadata": {},
   "source": [
    "<h3>Percentiles\n",
    "A percentile is a measure that indicates the value below which a given percentage of data points in a dataset falls. For example, the 50th percentile (median) is the value below which 50% of the data lies.</h3>"
   ]
  },
  {
   "cell_type": "markdown",
   "id": "12d4afde-029c-49fc-8a40-909c1e4a2ab2",
   "metadata": {},
   "source": [
    "<img src='percentile.png'>\n",
    "<img src='percentile1.png'>"
   ]
  },
  {
   "cell_type": "code",
   "execution_count": 9,
   "id": "b87b9791-4d4b-4e32-b922-b8849c2397c0",
   "metadata": {},
   "outputs": [
    {
     "name": "stdout",
     "output_type": "stream",
     "text": [
      "1\n",
      "5\n"
     ]
    }
   ],
   "source": [
    "print(np.min(data))  # Output: 1\n",
    "print(np.max(data))  # Output: 5"
   ]
  },
  {
   "cell_type": "code",
   "execution_count": 11,
   "id": "3db31f41-a9a3-4959-a22f-e84e0097d2b9",
   "metadata": {},
   "outputs": [
    {
     "name": "stdout",
     "output_type": "stream",
     "text": [
      "4\n"
     ]
    }
   ],
   "source": [
    "#Range\n",
    "print(np.ptp(data))  # Output: 4 (5 - 1)\n"
   ]
  },
  {
   "cell_type": "markdown",
   "id": "4fa62a9c-72cb-4a0c-a445-9990c25532a4",
   "metadata": {},
   "source": [
    "<h1>Cumulative Statistics</h1>"
   ]
  },
  {
   "cell_type": "code",
   "execution_count": 14,
   "id": "2c7cadf7-fb43-473e-9e45-6b497e9f6b61",
   "metadata": {},
   "outputs": [
    {
     "name": "stdout",
     "output_type": "stream",
     "text": [
      "[ 1  3  6 10 15]\n"
     ]
    }
   ],
   "source": [
    "#Cumulative Sum\n",
    "\n",
    "\n",
    "data = [1, 2, 3, 4, 5]\n",
    "print(np.cumsum(data))  # Output: [ 1  3  6 10 15]\n"
   ]
  },
  {
   "cell_type": "code",
   "execution_count": 15,
   "id": "3d41d3d5-0411-4a78-91d3-0ffe17b1124d",
   "metadata": {},
   "outputs": [
    {
     "name": "stdout",
     "output_type": "stream",
     "text": [
      "[  1   2   6  24 120]\n"
     ]
    }
   ],
   "source": [
    "#Cumulative Product\n",
    "print(np.cumprod(data))  # Output: [  1   2   6  24 120]\n"
   ]
  },
  {
   "cell_type": "markdown",
   "id": "4a70a502-7993-4a14-9205-f28a46fa5682",
   "metadata": {},
   "source": [
    "<h3>Correlations and Covariance</h3>"
   ]
  },
  {
   "cell_type": "code",
   "execution_count": 16,
   "id": "d3849990-5610-4003-86c7-2cce4dc6ca9e",
   "metadata": {},
   "outputs": [
    {
     "name": "stdout",
     "output_type": "stream",
     "text": [
      "[[1. 1.]\n",
      " [1. 1.]]\n"
     ]
    }
   ],
   "source": [
    "#Correlation Coefficient\n",
    "x = [1, 2, 3]\n",
    "y = [4, 5, 6]\n",
    "print(np.corrcoef(x, y))  # Output: [[1. 1.]\n",
    "                             #          [1. 1.]]\n"
   ]
  },
  {
   "cell_type": "code",
   "execution_count": 17,
   "id": "eb23e164-6b2c-44fe-a3a9-f787536e1d43",
   "metadata": {},
   "outputs": [
    {
     "name": "stdout",
     "output_type": "stream",
     "text": [
      "[[1. 1.]\n",
      " [1. 1.]]\n"
     ]
    }
   ],
   "source": [
    "#Covariance Matrix\n",
    "print(np.cov(x, y))  # Output: [[1. 1.]\n",
    "                            #          [1. 1.]]"
   ]
  },
  {
   "cell_type": "markdown",
   "id": "4efd8ece-1d99-4b0e-bac8-9c3c26387e16",
   "metadata": {},
   "source": [
    "The correlation coefficient quantifies the linear relationship between two variables. It measures how changes in one variable are associated with changes in another. Its value ranges from -1 to 1\n",
    "\n",
    "\n",
    "\n",
    "\n",
    "1: Perfect positive correlation (as one variable increases, the other increases).\n",
    "\n",
    "−1: Perfect negative correlation (as one variable increases, the other decreases).\n",
    "\n",
    "0: No linear correlation.\n",
    "\n"
   ]
  },
  {
   "attachments": {},
   "cell_type": "markdown",
   "id": "75f3d2f0-3bae-4b02-9bf8-2688d3c3dd04",
   "metadata": {},
   "source": [
    "<img src='corr.png'>"
   ]
  },
  {
   "cell_type": "code",
   "execution_count": 18,
   "id": "af8044cf-4520-4247-974f-47bc48c13235",
   "metadata": {},
   "outputs": [],
   "source": [
    "X=[1,2,3,4,5]\n",
    "Y=[2,4,6,8,10]\n"
   ]
  },
  {
   "cell_type": "markdown",
   "id": "6f5eb0bd-469f-412d-953c-6c229367aad2",
   "metadata": {},
   "source": [
    "<h3>Statistical Distributions</h3>"
   ]
  },
  {
   "cell_type": "code",
   "execution_count": 19,
   "id": "06803059-1e38-4f53-8e46-71dd16a9a1d3",
   "metadata": {},
   "outputs": [
    {
     "name": "stdout",
     "output_type": "stream",
     "text": [
      "[-0.55864821  0.55616421  1.22705683 -0.70914754  0.54041146]\n"
     ]
    }
   ],
   "source": [
    "#Normal Distribution\n",
    "normal_sample = np.random.normal(loc=0, scale=1, size=5)\n",
    "print(normal_sample)  # Example Output: [ 1.764, -0.977, 0.950, -0.151, 0.410]\n"
   ]
  },
  {
   "cell_type": "markdown",
   "id": "05072b78-3831-4efd-a462-fe3f63241cb9",
   "metadata": {},
   "source": [
    "Normal Distribution\n",
    "The normal distribution, also known as the Gaussian distribution, is a continuous probability distribution that is symmetric around its mean. It is one of the most important and widely used distributions in statistics and data analysis."
   ]
  },
  {
   "cell_type": "code",
   "execution_count": 20,
   "id": "5a9dcf4d-0a8c-49d2-8523-0481cb1fd834",
   "metadata": {},
   "outputs": [
    {
     "name": "stdout",
     "output_type": "stream",
     "text": [
      "[5.75869955 2.41276841 5.56415143 5.8220786  5.39359617]\n"
     ]
    }
   ],
   "source": [
    "#Uniform Distribution\n",
    "uniform_sample = np.random.uniform(low=0, high=10, size=5)\n",
    "print(uniform_sample)  # Example Output: [5.23, 3.57, 7.68, 0.91, 8.42]\n"
   ]
  },
  {
   "cell_type": "markdown",
   "id": "d2f9c6b1-3ae5-434e-940c-1bb1a845a5e1",
   "metadata": {},
   "source": [
    "The uniform distribution is a probability distribution where all outcomes are equally likely. Every interval of the same length within the range of the distribution has an equal probability of occurring."
   ]
  },
  {
   "cell_type": "code",
   "execution_count": 21,
   "id": "c9278d4b-ba7b-4143-81c4-57840f46bdc8",
   "metadata": {},
   "outputs": [
    {
     "name": "stdout",
     "output_type": "stream",
     "text": [
      "[7 5 2 5 6]\n"
     ]
    }
   ],
   "source": [
    "#Binomial Distribution\n",
    "binomial_sample = np.random.binomial(n=10, p=0.5, size=5)\n",
    "print(binomial_sample)  # Example Output: [4, 6, 5, 7, 3]\n"
   ]
  },
  {
   "cell_type": "code",
   "execution_count": 25,
   "id": "a5de040d-1240-426f-a7b6-78710e80e7d9",
   "metadata": {},
   "outputs": [
    {
     "name": "stdout",
     "output_type": "stream",
     "text": [
      "Histogram: [1 2 7]\n",
      "Bins: [1. 2. 3. 4.]\n"
     ]
    }
   ],
   "source": [
    "import numpy as np\n",
    "\n",
    "# Define the array\n",
    "array = np.array([1, 2, 2, 3, 3, 3, 4, 4, 4, 4])\n",
    "\n",
    "# Create the histogram\n",
    "hist, bins = np.histogram(array, bins=3)\n",
    "\n",
    "# Output the histogram and bin edges\n",
    "print(\"Histogram:\", hist)  # Counts of elements in each bin\n",
    "print(\"Bins:\", bins)  # Bin edges\n"
   ]
  },
  {
   "cell_type": "markdown",
   "id": "38d38503-f24a-4b4f-8726-473547488aa4",
   "metadata": {},
   "source": [
    "<img src='bin1.png'>"
   ]
  },
  {
   "cell_type": "code",
   "execution_count": 26,
   "id": "e47ea4ab-8e12-4111-923e-a35c471fc92a",
   "metadata": {},
   "outputs": [
    {
     "name": "stdout",
     "output_type": "stream",
     "text": [
      "Histogram: [1 2 7]\n",
      "Bins: [1. 2. 3. 4.]\n"
     ]
    }
   ],
   "source": [
    "import numpy as np\n",
    "\n",
    "# Define the array\n",
    "array = np.array([1, 2, 2, 3, 3, 3, 4, 4, 4, 4])\n",
    "\n",
    "# Create the histogram with 3 bins\n",
    "hist, bins = np.histogram(array, bins=3)\n",
    "\n",
    "print(\"Histogram:\", hist)  # Counts of elements in each bin\n",
    "print(\"Bins:\", bins)  # Bin edges\n"
   ]
  },
  {
   "attachments": {},
   "cell_type": "markdown",
   "id": "b51de3c6-d3f2-4ebf-8f00-1c618f746526",
   "metadata": {},
   "source": [
    "<img src='bin2.png'>"
   ]
  },
  {
   "cell_type": "code",
   "execution_count": 27,
   "id": "db95c19c-c429-4712-9599-2df355ff681a",
   "metadata": {},
   "outputs": [
    {
     "name": "stdout",
     "output_type": "stream",
     "text": [
      "Histogram: [1 2 7]\n",
      "Bins: [0 2 3 5]\n"
     ]
    }
   ],
   "source": [
    "# Define custom bin edges\n",
    "custom_bins = [0, 2, 3, 5]\n",
    "\n",
    "# Create the histogram using custom bins\n",
    "hist, bins = np.histogram(array, bins=custom_bins)\n",
    "\n",
    "print(\"Histogram:\", hist)  # Counts of elements in each bin\n",
    "print(\"Bins:\", bins)  # Bin edges\n"
   ]
  },
  {
   "cell_type": "code",
   "execution_count": null,
   "id": "5e9a2a8d-7585-421f-bf03-5ec203141156",
   "metadata": {},
   "outputs": [],
   "source": []
  }
 ],
 "metadata": {
  "kernelspec": {
   "display_name": "Python 3 (ipykernel)",
   "language": "python",
   "name": "python3"
  },
  "language_info": {
   "codemirror_mode": {
    "name": "ipython",
    "version": 3
   },
   "file_extension": ".py",
   "mimetype": "text/x-python",
   "name": "python",
   "nbconvert_exporter": "python",
   "pygments_lexer": "ipython3",
   "version": "3.11.7"
  }
 },
 "nbformat": 4,
 "nbformat_minor": 5
}
