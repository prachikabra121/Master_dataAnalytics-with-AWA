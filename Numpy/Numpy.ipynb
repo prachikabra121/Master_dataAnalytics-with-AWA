{
 "cells": [
  {
   "cell_type": "markdown",
   "id": "9d8f0399-8627-40d2-8db0-3d7b1fce3e1c",
   "metadata": {},
   "source": [
    "<h1>What is NumPy?</h1>\n",
    "NumPy (Numerical Python) is a library in Python used for numerical and matrix computations."
   ]
  },
  {
   "cell_type": "markdown",
   "id": "958a0f00-4a74-4a21-8b1e-411faa2466c0",
   "metadata": {},
   "source": [
    "<h3>Installation</h3>"
   ]
  },
  {
   "cell_type": "code",
   "execution_count": 1,
   "id": "651a9dc0-40d8-49cc-b746-3dfc41017fc9",
   "metadata": {},
   "outputs": [
    {
     "name": "stdout",
     "output_type": "stream",
     "text": [
      "Requirement already satisfied: numpy in c:\\users\\prach\\appdata\\roaming\\python\\python311\\site-packages (1.26.4)\n"
     ]
    },
    {
     "name": "stderr",
     "output_type": "stream",
     "text": [
      "\n",
      "[notice] A new release of pip is available: 24.0 -> 24.3.1\n",
      "[notice] To update, run: python.exe -m pip install --upgrade pip\n"
     ]
    }
   ],
   "source": [
    "!pip install numpy\n"
   ]
  },
  {
   "cell_type": "markdown",
   "id": "ad9a2bb0-30d7-4fe4-bc10-9608bfcaaf79",
   "metadata": {},
   "source": [
    "<h3>Import NumPy</h3>"
   ]
  },
  {
   "cell_type": "code",
   "execution_count": 2,
   "id": "5a29dccd-90a3-4886-8d37-b1bfeacd99ed",
   "metadata": {},
   "outputs": [],
   "source": [
    "import numpy as np\n"
   ]
  },
  {
   "cell_type": "markdown",
   "id": "484d7c58-e7fa-4aaa-9fac-0a86ac2bee32",
   "metadata": {},
   "source": [
    "<h3>What is an Array?</h3>\n",
    "\n",
    "An array is a data structure that stores multiple values of the same data type in a single variable. Arrays are like lists in Python, but they are more efficient for numerical operations and can handle multi-dimensional data.\n",
    "\n",
    "In the context of NumPy, an array is called a NumPy array, which is essentially:\n",
    "\n",
    "\n",
    "-A grid of values, all of the same type.\n",
    "\n",
    "-Organized into dimensions (1D, 2D, 3D, or more).\n",
    "\n",
    "-Fast and memory-efficient for numerical computations"
   ]
  },
  {
   "cell_type": "markdown",
   "id": "c80a4a09-ff8f-4c50-9f01-ca12c2456734",
   "metadata": {},
   "source": [
    "<h3>Key Features of Arrays</h3>\n",
    "\n",
    "-Homogeneous: All elements in a NumPy array must be of the same type (e.g., integers, floats).\n",
    "\n",
    "-Fixed Size: Once created, the size of a NumPy array cannot be changed (unlike Python lists).\n",
    "\n",
    "-Multi-dimensional: NumPy arrays support more than one dimension (1D, 2D, or nD).\n",
    "\n",
    "-Efficient Computation: NumPy uses optimized C libraries, making array operations much faster than Python lists.\n",
    "\n",
    "-Mathematical Operations: Arrays support vectorized operations, enabling element-wise addition, multiplication, etc., without explicit loops."
   ]
  },
  {
   "cell_type": "markdown",
   "id": "9bd3c371-cb1d-43a6-afb5-6b9b26e5cd1d",
   "metadata": {},
   "source": [
    "<img src='array.jpg'>"
   ]
  },
  {
   "cell_type": "markdown",
   "id": "b3a8824b-7382-4b05-ab51-2b63a596cefa",
   "metadata": {},
   "source": [
    "<h3>Why Use Arrays Instead of Lists?</h3>"
   ]
  },
  {
   "cell_type": "markdown",
   "id": "e13d6127-e909-4e0b-baea-de5d9264d0c7",
   "metadata": {},
   "source": [
    "<img src ='diffbtweenNumpyList.png'>"
   ]
  },
  {
   "cell_type": "markdown",
   "id": "e40a6d58-c90b-49b9-9f72-be79f815979e",
   "metadata": {},
   "source": [
    "<h3>How is a NumPy Array Different?</h3>\n",
    "\n",
    "Consider this example:\n"
   ]
  },
  {
   "cell_type": "code",
   "execution_count": 3,
   "id": "600b5c63-536b-46a1-84a4-c3d2e09b2192",
   "metadata": {},
   "outputs": [
    {
     "name": "stdout",
     "output_type": "stream",
     "text": [
      "[5, 7, 9]\n"
     ]
    }
   ],
   "source": [
    "#Using Python Lists\n",
    "list1 = [1, 2, 3]\n",
    "list2 = [4, 5, 6]\n",
    "\n",
    "# Element-wise addition requires a loop\n",
    "result = [list1[i] + list2[i] for i in range(len(list1))]\n",
    "print(result)  # Output: [5, 7, 9]\n"
   ]
  },
  {
   "cell_type": "code",
   "execution_count": 4,
   "id": "5b97f1bd-692f-48de-811e-d4bc74c88d59",
   "metadata": {},
   "outputs": [
    {
     "name": "stdout",
     "output_type": "stream",
     "text": [
      "[5 7 9]\n"
     ]
    }
   ],
   "source": [
    "#Using NumPy Arrays\n",
    "import numpy as np\n",
    "\n",
    "arr1 = np.array([1, 2, 3])\n",
    "arr2 = np.array([4, 5, 6])\n",
    "\n",
    "# Element-wise addition is automatic\n",
    "result = arr1 + arr2\n",
    "print(result)  # Output: [5, 7, 9]\n"
   ]
  },
  {
   "cell_type": "code",
   "execution_count": 5,
   "id": "9e551222-75c9-4984-94c7-ebc8618a7faa",
   "metadata": {},
   "outputs": [
    {
     "data": {
      "text/plain": [
       "[1, 2, 3, 4, 5, 6]"
      ]
     },
     "execution_count": 5,
     "metadata": {},
     "output_type": "execute_result"
    }
   ],
   "source": [
    "list1+list2"
   ]
  },
  {
   "cell_type": "markdown",
   "id": "59cd9881-f47e-4dff-8228-83d1e6540652",
   "metadata": {},
   "source": [
    "With NumPy arrays, operations like addition, subtraction, and multiplication are element-wise and efficient."
   ]
  },
  {
   "cell_type": "markdown",
   "id": "b2177a0f-b2dd-4886-a611-d02f0403b440",
   "metadata": {},
   "source": [
    "<h3>\n",
    "Creating Arrays\n",
    "</h3>"
   ]
  },
  {
   "cell_type": "code",
   "execution_count": 7,
   "id": "48ecc2ca-027c-4b15-a299-145a399585eb",
   "metadata": {},
   "outputs": [
    {
     "name": "stdout",
     "output_type": "stream",
     "text": [
      "[1 2 3]\n"
     ]
    }
   ],
   "source": [
    "# 1D array\n",
    "arr1 = np.array([1, 2, 3])\n",
    "print(arr1)\n"
   ]
  },
  {
   "cell_type": "code",
   "execution_count": 8,
   "id": "a98fef54-4dcb-4934-9839-7fb59e079bf2",
   "metadata": {},
   "outputs": [
    {
     "name": "stdout",
     "output_type": "stream",
     "text": [
      "[[1 2]\n",
      " [3 4]]\n"
     ]
    }
   ],
   "source": [
    "# 2D array\n",
    "arr2 = np.array([[1, 2], [3, 4]])\n",
    "print(arr2)"
   ]
  },
  {
   "cell_type": "code",
   "execution_count": 9,
   "id": "f1d32e6f-49e7-4565-bc07-e9192f256d69",
   "metadata": {},
   "outputs": [
    {
     "name": "stdout",
     "output_type": "stream",
     "text": [
      "[[[1 2]\n",
      "  [3 4]]\n",
      "\n",
      " [[5 6]\n",
      "  [7 8]]]\n"
     ]
    }
   ],
   "source": [
    "# 3D array\n",
    "arr3 = np.array([[[1, 2], [3, 4]], [[5, 6], [7, 8]]])\n",
    "print(arr3)"
   ]
  },
  {
   "cell_type": "markdown",
   "id": "46800421-262f-4373-851b-edc5784ff86c",
   "metadata": {},
   "source": [
    "<h3>Array Attributes</h3>"
   ]
  },
  {
   "cell_type": "code",
   "execution_count": 10,
   "id": "e1b1fc8a-af6f-4fba-9afa-178425430aff",
   "metadata": {},
   "outputs": [],
   "source": [
    "arr = np.array([[1, 2, 3], [4, 5, 6]])"
   ]
  },
  {
   "cell_type": "code",
   "execution_count": 11,
   "id": "63f47c29-ed73-4615-a30a-e9bd817c67ad",
   "metadata": {},
   "outputs": [
    {
     "name": "stdout",
     "output_type": "stream",
     "text": [
      "Shape: (2, 3)\n"
     ]
    }
   ],
   "source": [
    "print(\"Shape:\", arr.shape)   "
   ]
  },
  {
   "cell_type": "code",
   "execution_count": 12,
   "id": "580e6e68-051c-4bca-84bb-efd9e4d76e77",
   "metadata": {},
   "outputs": [
    {
     "name": "stdout",
     "output_type": "stream",
     "text": [
      "Size: 6\n"
     ]
    }
   ],
   "source": [
    "print(\"Size:\", arr.size) "
   ]
  },
  {
   "cell_type": "code",
   "execution_count": 13,
   "id": "351fa160-ef4a-42b5-87dd-a0855f777b5e",
   "metadata": {},
   "outputs": [
    {
     "name": "stdout",
     "output_type": "stream",
     "text": [
      "Data type: int32\n"
     ]
    }
   ],
   "source": [
    "print(\"Data type:\", arr.dtype)"
   ]
  },
  {
   "cell_type": "markdown",
   "id": "15a426c5-487e-4b95-9b6d-11dcc3b71851",
   "metadata": {},
   "source": [
    "<h3>Array Initialization</h3>"
   ]
  },
  {
   "cell_type": "code",
   "execution_count": 3,
   "id": "f0418363-5ad5-4bdf-82d8-25b6d763adb1",
   "metadata": {},
   "outputs": [
    {
     "name": "stdout",
     "output_type": "stream",
     "text": [
      "[[0. 0. 0.]\n",
      " [0. 0. 0.]]\n"
     ]
    }
   ],
   "source": [
    "# Array of zeros\n",
    "zeros = np.zeros((2, 3))\n",
    "print(zeros)"
   ]
  },
  {
   "cell_type": "code",
   "execution_count": 4,
   "id": "bbf88a3d-5097-4dc0-905a-6706e28c90db",
   "metadata": {},
   "outputs": [
    {
     "name": "stdout",
     "output_type": "stream",
     "text": [
      "[[0.37012518 0.66349845 0.49815365]\n",
      " [0.48741894 0.83787523 0.07321934]]\n"
     ]
    }
   ],
   "source": [
    "# Random array\n",
    "random_arr = np.random.rand(2, 3)  # Uniformly distributed\n",
    "print(random_arr)"
   ]
  },
  {
   "cell_type": "code",
   "execution_count": 5,
   "id": "54a696a9-966d-4876-9cdd-cf535d7d26d6",
   "metadata": {},
   "outputs": [
    {
     "name": "stdout",
     "output_type": "stream",
     "text": [
      "[[[0.18671546 0.1632629  0.28950272]\n",
      "  [0.51863919 0.32103079 0.41613097]]\n",
      "\n",
      " [[0.45515326 0.62992676 0.01930696]\n",
      "  [0.56552704 0.98593991 0.48974827]]]\n"
     ]
    }
   ],
   "source": [
    "random_arr = np.random.rand(2,2,3)  # Uniformly distributed\n",
    "print(random_arr)"
   ]
  },
  {
   "cell_type": "markdown",
   "id": "21d0870a-f4a9-46a5-a14e-95b07c64fb75",
   "metadata": {},
   "source": [
    "Breaking It Down\n",
    "\n",
    "np.random.rand Function:\n",
    "\n",
    "This is a function from NumPy's random module.\n",
    "\n",
    "It generates random numbers uniformly distributed in the range [0, 1), meaning:\n",
    "\n",
    "Any number in this range is equally likely to appear.\n",
    "\n",
    "No bias toward any part of the range.\n",
    "\n",
    "Arguments (2, 3):\n",
    "\n",
    "These specify the shape of the output array.\n",
    "\n",
    "(2, 3) means:2 rows and 3 columns.\n",
    "\n",
    "The output will be a 2-dimensional array.\n",
    "Output:\n",
    "\n",
    "A 2x3 array with random values between 0 (inclusive) and 1 (exclusive)."
   ]
  },
  {
   "cell_type": "code",
   "execution_count": 8,
   "id": "735b897c-4728-4353-8993-a13f110945b6",
   "metadata": {},
   "outputs": [
    {
     "name": "stdout",
     "output_type": "stream",
     "text": [
      "[[[1. 1. 1. 1. 1.]\n",
      "  [1. 1. 1. 1. 1.]\n",
      "  [1. 1. 1. 1. 1.]\n",
      "  [1. 1. 1. 1. 1.]]\n",
      "\n",
      " [[1. 1. 1. 1. 1.]\n",
      "  [1. 1. 1. 1. 1.]\n",
      "  [1. 1. 1. 1. 1.]\n",
      "  [1. 1. 1. 1. 1.]]\n",
      "\n",
      " [[1. 1. 1. 1. 1.]\n",
      "  [1. 1. 1. 1. 1.]\n",
      "  [1. 1. 1. 1. 1.]\n",
      "  [1. 1. 1. 1. 1.]]]\n"
     ]
    }
   ],
   "source": [
    "# Array of ones\n",
    "ones = np.ones((3, 4,5))\n",
    "print(ones)"
   ]
  },
  {
   "cell_type": "code",
   "execution_count": 9,
   "id": "106f125a-ed63-4d74-9d0f-892634366555",
   "metadata": {},
   "outputs": [
    {
     "name": "stdout",
     "output_type": "stream",
     "text": [
      "[[1. 0. 0. 0.]\n",
      " [0. 1. 0. 0.]\n",
      " [0. 0. 1. 0.]\n",
      " [0. 0. 0. 1.]]\n"
     ]
    }
   ],
   "source": [
    "# Identity matrix\n",
    "identity = np.eye(4)\n",
    "print(identity)\n"
   ]
  },
  {
   "cell_type": "code",
   "execution_count": 18,
   "id": "1075845b-af1f-4848-9716-780c3bb78bb3",
   "metadata": {},
   "outputs": [
    {
     "name": "stdout",
     "output_type": "stream",
     "text": [
      "[0 2 4 6 8]\n"
     ]
    }
   ],
   "source": [
    "# Array with a range of values\n",
    "range_arr = np.arange(0, 10, 2)\n",
    "print(range_arr)\n"
   ]
  },
  {
   "cell_type": "markdown",
   "id": "d6cc11ed-ee86-4381-b30a-ad7ad867edd4",
   "metadata": {},
   "source": [
    "<h3>Indexing and Slicing</h3>"
   ]
  },
  {
   "cell_type": "code",
   "execution_count": 11,
   "id": "2926816d-7796-4fbc-ab6c-4f68b4b01ca6",
   "metadata": {},
   "outputs": [],
   "source": [
    "arr = np.array([10, 20, 30, 40, 50])"
   ]
  },
  {
   "cell_type": "code",
   "execution_count": 13,
   "id": "906f4483-c7b6-45b8-870d-a2b9a0405e54",
   "metadata": {},
   "outputs": [
    {
     "data": {
      "text/plain": [
       "40"
      ]
     },
     "execution_count": 13,
     "metadata": {},
     "output_type": "execute_result"
    }
   ],
   "source": [
    "arr[-2]"
   ]
  },
  {
   "cell_type": "code",
   "execution_count": 14,
   "id": "a6ae3e33-cfbe-4f0d-a24d-40205c6f5a32",
   "metadata": {},
   "outputs": [
    {
     "data": {
      "text/plain": [
       "array([20, 30, 40])"
      ]
     },
     "execution_count": 14,
     "metadata": {},
     "output_type": "execute_result"
    }
   ],
   "source": [
    "arr[1:4]"
   ]
  },
  {
   "cell_type": "code",
   "execution_count": 26,
   "id": "5b8b5c6c-3fd7-4704-bd3b-5eece95df699",
   "metadata": {},
   "outputs": [
    {
     "data": {
      "text/plain": [
       "(5,)"
      ]
     },
     "execution_count": 26,
     "metadata": {},
     "output_type": "execute_result"
    }
   ],
   "source": [
    "arr.shape"
   ]
  },
  {
   "cell_type": "code",
   "execution_count": 24,
   "id": "ab194b36-e2b9-4391-8ba1-f60997b31ad1",
   "metadata": {},
   "outputs": [
    {
     "name": "stdout",
     "output_type": "stream",
     "text": [
      "20\n"
     ]
    }
   ],
   "source": [
    "# Indexing\n",
    "print(arr[1])  # 20"
   ]
  },
  {
   "cell_type": "code",
   "execution_count": 21,
   "id": "abaebb17-8088-48da-a507-7a29b34aad03",
   "metadata": {},
   "outputs": [
    {
     "name": "stdout",
     "output_type": "stream",
     "text": [
      "[20 30 40]\n"
     ]
    }
   ],
   "source": [
    "# Slicing\n",
    "print(arr[1:4])  # [20, 30, 40]\n"
   ]
  },
  {
   "cell_type": "code",
   "execution_count": 16,
   "id": "b876bee1-6a95-4d20-9f33-15cf21d527da",
   "metadata": {},
   "outputs": [
    {
     "name": "stdout",
     "output_type": "stream",
     "text": [
      "[[5 6]\n",
      " [8 9]]\n"
     ]
    }
   ],
   "source": [
    "# Multi-dimensional slicing\n",
    "arr2d = np.array([[1, 2, 3], [4, 5, 6], [7, 8, 9]])\n",
    "print(arr2d[1:, 1:])  # [[5, 6], [8, 9]]\n"
   ]
  },
  {
   "cell_type": "code",
   "execution_count": 18,
   "id": "c7ce8283-5a70-4e8b-a439-e6ecb00a41e6",
   "metadata": {},
   "outputs": [
    {
     "data": {
      "text/plain": [
       "array([[1, 2, 3],\n",
       "       [4, 5, 6],\n",
       "       [7, 8, 9]])"
      ]
     },
     "execution_count": 18,
     "metadata": {},
     "output_type": "execute_result"
    }
   ],
   "source": [
    "arr2d"
   ]
  },
  {
   "cell_type": "code",
   "execution_count": 24,
   "id": "b5dfe85f-b0e3-4c3a-afaf-770c1b82be7a",
   "metadata": {},
   "outputs": [
    {
     "data": {
      "text/plain": [
       "array([[2],\n",
       "       [5]])"
      ]
     },
     "execution_count": 24,
     "metadata": {},
     "output_type": "execute_result"
    }
   ],
   "source": [
    "arr2d[0:2,1:-1]"
   ]
  },
  {
   "cell_type": "code",
   "execution_count": 17,
   "id": "f9205a9e-9329-4468-92f3-d58da9c71698",
   "metadata": {},
   "outputs": [
    {
     "data": {
      "text/plain": [
       "(3, 3)"
      ]
     },
     "execution_count": 17,
     "metadata": {},
     "output_type": "execute_result"
    }
   ],
   "source": [
    "arr2d.shape"
   ]
  },
  {
   "cell_type": "code",
   "execution_count": 25,
   "id": "aa89ec18-ea74-4e54-b0e0-3e715733d6d8",
   "metadata": {},
   "outputs": [
    {
     "data": {
      "text/plain": [
       "(3, 3)"
      ]
     },
     "execution_count": 25,
     "metadata": {},
     "output_type": "execute_result"
    }
   ],
   "source": [
    "arr2d.shape"
   ]
  },
  {
   "cell_type": "markdown",
   "id": "694b50d7-7932-4108-b9bd-cfcf82b9f3f0",
   "metadata": {},
   "source": [
    "<h3>Mathematical Operations</h3>"
   ]
  },
  {
   "cell_type": "code",
   "execution_count": 27,
   "id": "691183b2-26ab-4058-90ce-a4af3c58af31",
   "metadata": {},
   "outputs": [],
   "source": [
    "# Element-wise operations\n",
    "a = np.array([1, 2, 3])\n",
    "b = np.array([4, 5, 6])"
   ]
  },
  {
   "cell_type": "code",
   "execution_count": 28,
   "id": "db6dbef6-26a7-4a64-8826-c36a20107ec8",
   "metadata": {},
   "outputs": [
    {
     "name": "stdout",
     "output_type": "stream",
     "text": [
      "[5 7 9]\n"
     ]
    }
   ],
   "source": [
    "print(a + b)  # [5, 7, 9]"
   ]
  },
  {
   "cell_type": "code",
   "execution_count": 29,
   "id": "99375609-4446-49eb-82cf-7a8c9ad72a0b",
   "metadata": {},
   "outputs": [
    {
     "name": "stdout",
     "output_type": "stream",
     "text": [
      "[ 4 10 18]\n"
     ]
    }
   ],
   "source": [
    "print(a * b)  # [4, 10, 18]"
   ]
  },
  {
   "cell_type": "code",
   "execution_count": 25,
   "id": "d88b13de-0640-434e-96d2-17b7f000fb88",
   "metadata": {},
   "outputs": [],
   "source": [
    "# Broadcasting\n",
    "c = np.array([[1, 2], [3, 4]])"
   ]
  },
  {
   "cell_type": "code",
   "execution_count": 26,
   "id": "00ac9321-e3ee-42d6-a4cb-a3a9c981e295",
   "metadata": {},
   "outputs": [
    {
     "name": "stdout",
     "output_type": "stream",
     "text": [
      "[[11 12]\n",
      " [13 14]]\n"
     ]
    }
   ],
   "source": [
    "print(c + 10)  # Adds 10 to every element\n"
   ]
  },
  {
   "cell_type": "code",
   "execution_count": 27,
   "id": "0d2fce0f-5c51-4b49-85bb-50f11135621d",
   "metadata": {},
   "outputs": [
    {
     "data": {
      "text/plain": [
       "array([[-9, -8],\n",
       "       [-7, -6]])"
      ]
     },
     "execution_count": 27,
     "metadata": {},
     "output_type": "execute_result"
    }
   ],
   "source": [
    "c-10"
   ]
  },
  {
   "cell_type": "code",
   "execution_count": 33,
   "id": "e2c4da20-aeb3-4c41-a984-0d5418a34c8a",
   "metadata": {},
   "outputs": [],
   "source": [
    "# Aggregations\n",
    "arr = np.array([1, 2, 3, 4])"
   ]
  },
  {
   "cell_type": "code",
   "execution_count": 34,
   "id": "74aca983-9170-4c05-bd47-0bedc6f8d18d",
   "metadata": {},
   "outputs": [
    {
     "name": "stdout",
     "output_type": "stream",
     "text": [
      "10\n"
     ]
    }
   ],
   "source": [
    "print(np.sum(arr))       # 10"
   ]
  },
  {
   "cell_type": "code",
   "execution_count": 35,
   "id": "808f568d-58e7-44e0-ae2f-7da22315ad1e",
   "metadata": {},
   "outputs": [
    {
     "name": "stdout",
     "output_type": "stream",
     "text": [
      "2.5\n"
     ]
    }
   ],
   "source": [
    "print(np.mean(arr))      # 2.5"
   ]
  },
  {
   "cell_type": "code",
   "execution_count": 36,
   "id": "804106b6-baea-42a0-b1e3-dcd49a74d50e",
   "metadata": {},
   "outputs": [
    {
     "name": "stdout",
     "output_type": "stream",
     "text": [
      "4\n"
     ]
    }
   ],
   "source": [
    "print(np.max(arr))       # 4"
   ]
  },
  {
   "cell_type": "code",
   "execution_count": 37,
   "id": "d1d6855e-3617-4a88-8b95-ae17ba8e8933",
   "metadata": {},
   "outputs": [
    {
     "name": "stdout",
     "output_type": "stream",
     "text": [
      "1\n"
     ]
    }
   ],
   "source": [
    "print(np.min(arr))  "
   ]
  },
  {
   "cell_type": "markdown",
   "id": "d9159471-103e-4cad-9f76-13e1c523e436",
   "metadata": {},
   "source": [
    "<h3>Linear Algebra</h3>"
   ]
  },
  {
   "cell_type": "code",
   "execution_count": 31,
   "id": "93019df7-73a9-436f-90fa-e91a79dac807",
   "metadata": {},
   "outputs": [],
   "source": [
    "A = np.array([[1, 2], [3, 4]])\n",
    "B = np.array([[5, 6], [7, 8]])"
   ]
  },
  {
   "cell_type": "code",
   "execution_count": 32,
   "id": "91a2fb01-fa66-4c7d-812d-d0f7c109f607",
   "metadata": {},
   "outputs": [
    {
     "data": {
      "text/plain": [
       "array([[1, 2],\n",
       "       [3, 4]])"
      ]
     },
     "execution_count": 32,
     "metadata": {},
     "output_type": "execute_result"
    }
   ],
   "source": [
    "A"
   ]
  },
  {
   "cell_type": "code",
   "execution_count": 39,
   "id": "2336f8f7-c08a-4767-a82c-b8551a6c93ec",
   "metadata": {},
   "outputs": [
    {
     "name": "stdout",
     "output_type": "stream",
     "text": [
      "[[19 22]\n",
      " [43 50]]\n"
     ]
    }
   ],
   "source": [
    "# Matrix multiplication\n",
    "result = np.dot(A, B)\n",
    "print(result)"
   ]
  },
  {
   "attachments": {},
   "cell_type": "markdown",
   "id": "802eb9ce-027c-4dd0-966a-ec76bc6b3344",
   "metadata": {},
   "source": [
    "<img src='matrix_dot.png'>"
   ]
  },
  {
   "cell_type": "code",
   "execution_count": 40,
   "id": "2a061545-6c6a-482d-8766-ffe2e253c7d4",
   "metadata": {},
   "outputs": [
    {
     "name": "stdout",
     "output_type": "stream",
     "text": [
      "-2.0000000000000004\n"
     ]
    }
   ],
   "source": [
    "# Determinant\n",
    "print(np.linalg.det(A))"
   ]
  },
  {
   "cell_type": "code",
   "execution_count": 28,
   "id": "9edf2a89-667e-4538-9173-8056a81ea2ae",
   "metadata": {},
   "outputs": [
    {
     "ename": "AttributeError",
     "evalue": "module 'numpy' has no attribute 'det'",
     "output_type": "error",
     "traceback": [
      "\u001b[1;31m---------------------------------------------------------------------------\u001b[0m",
      "\u001b[1;31mAttributeError\u001b[0m                            Traceback (most recent call last)",
      "Cell \u001b[1;32mIn[28], line 1\u001b[0m\n\u001b[1;32m----> 1\u001b[0m np\u001b[38;5;241m.\u001b[39mdet(A)\n",
      "File \u001b[1;32m~\\AppData\\Roaming\\Python\\Python311\\site-packages\\numpy\\__init__.py:347\u001b[0m, in \u001b[0;36m__getattr__\u001b[1;34m(attr)\u001b[0m\n\u001b[0;32m    344\u001b[0m     \u001b[38;5;124m\"\u001b[39m\u001b[38;5;124mRemoved in NumPy 1.25.0\u001b[39m\u001b[38;5;124m\"\u001b[39m\n\u001b[0;32m    345\u001b[0m     \u001b[38;5;28;01mraise\u001b[39;00m \u001b[38;5;167;01mRuntimeError\u001b[39;00m(\u001b[38;5;124m\"\u001b[39m\u001b[38;5;124mTester was removed in NumPy 1.25.\u001b[39m\u001b[38;5;124m\"\u001b[39m)\n\u001b[1;32m--> 347\u001b[0m \u001b[38;5;28;01mraise\u001b[39;00m \u001b[38;5;167;01mAttributeError\u001b[39;00m(\u001b[38;5;124m\"\u001b[39m\u001b[38;5;124mmodule \u001b[39m\u001b[38;5;132;01m{!r}\u001b[39;00m\u001b[38;5;124m has no attribute \u001b[39m\u001b[38;5;124m\"\u001b[39m\n\u001b[0;32m    348\u001b[0m                      \u001b[38;5;124m\"\u001b[39m\u001b[38;5;132;01m{!r}\u001b[39;00m\u001b[38;5;124m\"\u001b[39m\u001b[38;5;241m.\u001b[39mformat(\u001b[38;5;18m__name__\u001b[39m, attr))\n",
      "\u001b[1;31mAttributeError\u001b[0m: module 'numpy' has no attribute 'det'"
     ]
    }
   ],
   "source": [
    "np.det(A)"
   ]
  },
  {
   "attachments": {},
   "cell_type": "markdown",
   "id": "53716d52-b27b-480b-b7e9-b475b2f75382",
   "metadata": {},
   "source": [
    "<img src='determinant.png'>"
   ]
  },
  {
   "cell_type": "code",
   "execution_count": 41,
   "id": "e1bb345d-d2f7-49d2-987d-3c39636276ca",
   "metadata": {},
   "outputs": [
    {
     "name": "stdout",
     "output_type": "stream",
     "text": [
      "[[-2.   1. ]\n",
      " [ 1.5 -0.5]]\n"
     ]
    }
   ],
   "source": [
    "# Inverse\n",
    "inverse = np.linalg.inv(A)\n",
    "print(inverse)"
   ]
  },
  {
   "attachments": {},
   "cell_type": "markdown",
   "id": "7b703a67-237d-4817-b088-305a09b548ce",
   "metadata": {},
   "source": [
    "<img src='inverse.png'>"
   ]
  },
  {
   "cell_type": "markdown",
   "id": "b94a245a-baf4-4551-8f70-bbfb9e535a41",
   "metadata": {},
   "source": [
    "<h3>Advanced Indexing</h3>"
   ]
  },
  {
   "cell_type": "code",
   "execution_count": 42,
   "id": "711987c5-1354-49d0-8324-ade4684e4288",
   "metadata": {},
   "outputs": [
    {
     "name": "stdout",
     "output_type": "stream",
     "text": [
      "[10 30 50]\n",
      "[30 40 50]\n"
     ]
    }
   ],
   "source": [
    "arr = np.array([10, 20, 30, 40, 50])\n",
    "indices = [0, 2, 4]\n",
    "print(arr[indices])  # [10, 30, 50]\n",
    "\n",
    "# Boolean indexing\n",
    "print(arr[arr > 25])  # [30, 40, 50]\n"
   ]
  },
  {
   "cell_type": "markdown",
   "id": "c1fa3d70-eeb0-42c5-8242-99b9c28d2152",
   "metadata": {},
   "source": [
    "<h3>Reshaping and Transposing</h3>"
   ]
  },
  {
   "cell_type": "code",
   "execution_count": 33,
   "id": "ce5907dd-c397-42b4-821d-8d3f143d134e",
   "metadata": {},
   "outputs": [
    {
     "name": "stdout",
     "output_type": "stream",
     "text": [
      "[[1 4]\n",
      " [2 5]\n",
      " [3 6]]\n"
     ]
    }
   ],
   "source": [
    "arr = np.array([[1, 2, 3], [4, 5, 6]])\n",
    "\n",
    "\n",
    "# Transpose\n",
    "transposed = arr.T\n",
    "print(transposed)\n"
   ]
  },
  {
   "cell_type": "code",
   "execution_count": 34,
   "id": "409d03ae-b991-43c1-bc14-21a10f0e2743",
   "metadata": {},
   "outputs": [
    {
     "data": {
      "text/plain": [
       "array([[1, 2, 3],\n",
       "       [4, 5, 6]])"
      ]
     },
     "execution_count": 34,
     "metadata": {},
     "output_type": "execute_result"
    }
   ],
   "source": [
    "arr"
   ]
  },
  {
   "attachments": {},
   "cell_type": "markdown",
   "id": "fe65e474-c26d-4801-b0f3-e83df2091696",
   "metadata": {},
   "source": [
    "<img src='transpose.png'>"
   ]
  },
  {
   "cell_type": "code",
   "execution_count": 45,
   "id": "4a8e6698-556e-492a-a7d9-ddd301d66987",
   "metadata": {},
   "outputs": [
    {
     "name": "stdout",
     "output_type": "stream",
     "text": [
      "[[1 2]\n",
      " [3 4]\n",
      " [5 6]]\n"
     ]
    }
   ],
   "source": [
    "# Reshape\n",
    "reshaped = arr.reshape((3, 2))\n",
    "print(reshaped)\n"
   ]
  },
  {
   "cell_type": "markdown",
   "id": "ac31e7c1-33f3-4110-9b51-6316c0ba9dda",
   "metadata": {},
   "source": [
    "<h3>Advanced Broadcasting</h3>"
   ]
  },
  {
   "cell_type": "code",
   "execution_count": 35,
   "id": "664d2e5a-a83c-4a29-ac51-c9facf8f47c6",
   "metadata": {},
   "outputs": [
    {
     "name": "stdout",
     "output_type": "stream",
     "text": [
      "[[11 21 31]\n",
      " [12 22 32]\n",
      " [13 23 33]]\n"
     ]
    }
   ],
   "source": [
    "arr = np.array([[1], [2], [3]])\n",
    "vector = np.array([10, 20, 30])\n",
    "result = arr + vector\n",
    "print(result)\n"
   ]
  },
  {
   "cell_type": "code",
   "execution_count": 36,
   "id": "c9aff233-4021-411a-9370-33d0d86dcac8",
   "metadata": {},
   "outputs": [],
   "source": [
    "arr1 = np.array([[1,2,7], [2,3,9], [3,4,89]])"
   ]
  },
  {
   "cell_type": "code",
   "execution_count": 37,
   "id": "7b2cef6d-e89b-4bb3-b333-518d13c1573b",
   "metadata": {},
   "outputs": [
    {
     "data": {
      "text/plain": [
       "(3, 2)"
      ]
     },
     "execution_count": 37,
     "metadata": {},
     "output_type": "execute_result"
    }
   ],
   "source": [
    "arr1.shape"
   ]
  },
  {
   "cell_type": "markdown",
   "id": "529f9d6c-b0b6-4d86-b31e-e1fb23200713",
   "metadata": {},
   "source": [
    "<h3>Sorting</h3>"
   ]
  },
  {
   "cell_type": "code",
   "execution_count": 47,
   "id": "a9fea786-c9a6-4604-8896-6ee172877c79",
   "metadata": {},
   "outputs": [
    {
     "name": "stdout",
     "output_type": "stream",
     "text": [
      "[1 2 3]\n",
      "[1 2 0]\n"
     ]
    }
   ],
   "source": [
    "arr = np.array([3, 1, 2])\n",
    "sorted_arr = np.sort(arr)\n",
    "print(sorted_arr)\n",
    "\n",
    "# Argsort (indices of sorted array)\n",
    "indices = np.argsort(arr)\n",
    "print(indices)\n"
   ]
  },
  {
   "cell_type": "markdown",
   "id": "b9306340-0608-42c3-a91d-292730d36051",
   "metadata": {},
   "source": [
    "<h3>Working with Huge Data</h3>"
   ]
  },
  {
   "cell_type": "code",
   "execution_count": 48,
   "id": "096ee61d-d66b-4dc5-b18d-9203fff53db3",
   "metadata": {},
   "outputs": [
    {
     "name": "stdout",
     "output_type": "stream",
     "text": [
      "500047.5445865694\n"
     ]
    }
   ],
   "source": [
    "# Generate a large array\n",
    "large_arr = np.random.rand(1_000_000)\n",
    "\n",
    "# Perform computations efficiently\n",
    "print(np.sum(large_arr))  # Fast summation\n"
   ]
  },
  {
   "cell_type": "markdown",
   "id": "3330aac0-d26e-4a58-9dc6-c2182540eeb5",
   "metadata": {},
   "source": [
    "<h3>Save and Load</h3>\n"
   ]
  },
  {
   "cell_type": "code",
   "execution_count": 38,
   "id": "0e4e5202-b758-4880-9b04-16c136eb49bb",
   "metadata": {},
   "outputs": [],
   "source": [
    "arr=np.array([3,4,6])"
   ]
  },
  {
   "cell_type": "code",
   "execution_count": 39,
   "id": "76700d89-0c02-48ee-8256-956845df8ebd",
   "metadata": {},
   "outputs": [],
   "source": [
    "# Save to file\n",
    "np.save('array1.npy', arr)\n"
   ]
  },
  {
   "cell_type": "code",
   "execution_count": 40,
   "id": "6d72e434-f05a-492b-8f4a-d4d2d6efa91f",
   "metadata": {},
   "outputs": [
    {
     "name": "stdout",
     "output_type": "stream",
     "text": [
      "[3 4 6]\n"
     ]
    }
   ],
   "source": [
    "# Load from file\n",
    "loaded_arr = np.load('array1.npy')\n",
    "print(loaded_arr)\n"
   ]
  },
  {
   "cell_type": "markdown",
   "id": "8ab9e0c1-36bf-4cd8-a619-0a09cca2d328",
   "metadata": {},
   "source": [
    "<h3>Image Processing</h3>"
   ]
  },
  {
   "cell_type": "code",
   "execution_count": 41,
   "id": "228ca4b5-63ca-4b36-8801-9caaa80d2520",
   "metadata": {},
   "outputs": [],
   "source": [
    "from PIL import Image\n",
    "\n",
    "image = Image.open('array.jpg')\n",
    "image_array = np.array(image)\n",
    "\n",
    "\n"
   ]
  },
  {
   "cell_type": "code",
   "execution_count": 43,
   "id": "6ec77de8-f26f-4a06-b2d9-c34f7fcdc0cb",
   "metadata": {},
   "outputs": [
    {
     "data": {
      "text/plain": [
       "(180, 341, 3)"
      ]
     },
     "execution_count": 43,
     "metadata": {},
     "output_type": "execute_result"
    }
   ],
   "source": [
    "image_array.shape"
   ]
  },
  {
   "cell_type": "code",
   "execution_count": 44,
   "id": "69bace23-0c2b-4030-8a76-e2b44b98dfc4",
   "metadata": {},
   "outputs": [
    {
     "data": {
      "text/plain": [
       "184140"
      ]
     },
     "execution_count": 44,
     "metadata": {},
     "output_type": "execute_result"
    }
   ],
   "source": [
    "image_array.size"
   ]
  },
  {
   "cell_type": "code",
   "execution_count": 46,
   "id": "a6ffa418-46c4-4dd5-b80c-fbaca0e5d593",
   "metadata": {},
   "outputs": [],
   "source": [
    "arr1=image_array.reshape(341,180,3)"
   ]
  },
  {
   "cell_type": "code",
   "execution_count": 47,
   "id": "96d2c356-6751-4c5b-a480-56bac3d580d7",
   "metadata": {},
   "outputs": [
    {
     "name": "stdout",
     "output_type": "stream",
     "text": [
      "[[[253 253 253]\n",
      "  [253 253 253]\n",
      "  [253 253 253]\n",
      "  ...\n",
      "  [253 253 253]\n",
      "  [253 253 253]\n",
      "  [253 253 253]]\n",
      "\n",
      " [[253 253 253]\n",
      "  [253 253 253]\n",
      "  [253 253 253]\n",
      "  ...\n",
      "  [253 253 253]\n",
      "  [253 253 253]\n",
      "  [253 253 253]]\n",
      "\n",
      " [[253 253 253]\n",
      "  [253 253 253]\n",
      "  [253 253 253]\n",
      "  ...\n",
      "  [253 253 253]\n",
      "  [253 253 253]\n",
      "  [253 253 253]]\n",
      "\n",
      " ...\n",
      "\n",
      " [[253 253 253]\n",
      "  [253 253 253]\n",
      "  [253 253 253]\n",
      "  ...\n",
      "  [253 253 253]\n",
      "  [253 253 253]\n",
      "  [253 253 253]]\n",
      "\n",
      " [[253 253 253]\n",
      "  [253 253 253]\n",
      "  [253 253 253]\n",
      "  ...\n",
      "  [253 253 253]\n",
      "  [253 253 253]\n",
      "  [253 253 253]]\n",
      "\n",
      " [[253 253 253]\n",
      "  [253 253 253]\n",
      "  [253 253 253]\n",
      "  ...\n",
      "  [254 254 254]\n",
      "  [254 254 254]\n",
      "  [254 254 254]]]\n"
     ]
    }
   ],
   "source": [
    "print(arr1)\n"
   ]
  },
  {
   "cell_type": "code",
   "execution_count": 42,
   "id": "b542c3d4-d2c5-4830-be1e-34c52060b843",
   "metadata": {},
   "outputs": [
    {
     "name": "stdout",
     "output_type": "stream",
     "text": [
      "[[[253 253 253]\n",
      "  [253 253 253]\n",
      "  [253 253 253]\n",
      "  ...\n",
      "  [254 254 254]\n",
      "  [254 254 254]\n",
      "  [254 254 254]]\n",
      "\n",
      " [[253 253 253]\n",
      "  [253 253 253]\n",
      "  [253 253 253]\n",
      "  ...\n",
      "  [254 254 254]\n",
      "  [254 254 254]\n",
      "  [254 254 254]]\n",
      "\n",
      " [[253 253 253]\n",
      "  [253 253 253]\n",
      "  [253 253 253]\n",
      "  ...\n",
      "  [254 254 254]\n",
      "  [254 254 254]\n",
      "  [254 254 254]]\n",
      "\n",
      " ...\n",
      "\n",
      " [[253 253 253]\n",
      "  [253 253 253]\n",
      "  [253 253 253]\n",
      "  ...\n",
      "  [254 254 254]\n",
      "  [254 254 254]\n",
      "  [254 254 254]]\n",
      "\n",
      " [[253 253 253]\n",
      "  [253 253 253]\n",
      "  [253 253 253]\n",
      "  ...\n",
      "  [254 254 254]\n",
      "  [254 254 254]\n",
      "  [254 254 254]]\n",
      "\n",
      " [[253 253 253]\n",
      "  [253 253 253]\n",
      "  [253 253 253]\n",
      "  ...\n",
      "  [254 254 254]\n",
      "  [254 254 254]\n",
      "  [254 254 254]]]\n"
     ]
    }
   ],
   "source": [
    "print(image_array)"
   ]
  },
  {
   "cell_type": "code",
   "execution_count": 48,
   "id": "a01a16da-918f-450f-8bb9-36792bd09727",
   "metadata": {},
   "outputs": [],
   "source": [
    "# Manipulate image array\n",
    "processed_image = image_array // 2\n",
    "processed_image_pil = Image.fromarray(processed_image)\n",
    "processed_image_pil.show()"
   ]
  },
  {
   "cell_type": "markdown",
   "id": "4224506c-9a15-4cba-9a36-0c696f4bbe14",
   "metadata": {},
   "source": [
    "Image Opening: The image is loaded using the PIL.Image.open() function, which returns an image object. This works well for most image formats.\n",
    "\n",
    "Conversion to NumPy Array: When you convert the image to a NumPy array with np.array(image), it turns the image into a multi-dimensional NumPy array (height x width x channels, where channels are 3 for RGB or 4 for RGBA).\n",
    "\n",
    "Manipulating the Image Array: You are performing an operation (image_array // 2) which divides the pixel values by 2, effectively dimming the image.\n",
    "\n",
    "Back to Image: After manipulating the NumPy array, you use Image.fromarray(processed_image) to convert the array back to an image. Ensure that the array you use is in the correct range (0-255 for typical images) and has the correct datatype (uint8)."
   ]
  },
  {
   "cell_type": "markdown",
   "id": "3844e916-ac32-4fd6-bb54-d0bb704eff38",
   "metadata": {},
   "source": [
    "<h3>Real-Life Use: Investment firms use NumPy for Monte Carlo simulations, Value at Risk (VaR) calculations, and optimizing the asset allocation for maximizing returns while minimizing risk.</h3>"
   ]
  },
  {
   "cell_type": "code",
   "execution_count": 54,
   "id": "30834445-49d3-4871-99e1-a862e85e3c12",
   "metadata": {},
   "outputs": [],
   "source": [
    "import numpy as np\n",
    "\n",
    "# Simulate daily returns of three assets in a portfolio\n",
    "np.random.seed(42)\n",
    "returns = np.random.randn(1000, 3)  # 1000 days, 3 assets\n",
    "\n"
   ]
  },
  {
   "cell_type": "code",
   "execution_count": 55,
   "id": "134559bf-06bb-4b0a-a787-03c7991b104a",
   "metadata": {},
   "outputs": [],
   "source": [
    "# Compute the expected return and covariance matrix\n",
    "expected_returns = np.mean(returns, axis=0)\n",
    "cov_matrix = np.cov(returns.T)\n"
   ]
  },
  {
   "cell_type": "code",
   "execution_count": 56,
   "id": "03e5f25a-f157-4b7b-99b3-262db9146edd",
   "metadata": {},
   "outputs": [],
   "source": [
    "# Portfolio weights (initial guess)\n",
    "weights = np.array([0.4, 0.3, 0.3])\n"
   ]
  },
  {
   "cell_type": "code",
   "execution_count": 57,
   "id": "4c8936f0-eb72-4a78-87d5-c2292186fb5d",
   "metadata": {},
   "outputs": [],
   "source": [
    "# Portfolio return and risk (standard deviation)\n",
    "portfolio_return = np.sum(weights * expected_returns)\n",
    "portfolio_risk = np.sqrt(np.dot(weights.T, np.dot(cov_matrix, weights)))"
   ]
  },
  {
   "cell_type": "code",
   "execution_count": 58,
   "id": "eab217f5-0b82-43ea-8d21-57b0f258b030",
   "metadata": {},
   "outputs": [
    {
     "name": "stdout",
     "output_type": "stream",
     "text": [
      "Expected Portfolio Return: 0.0343\n",
      "Portfolio Risk (Standard Deviation): 0.5649\n"
     ]
    }
   ],
   "source": [
    "\n",
    "print(f\"Expected Portfolio Return: {portfolio_return:.4f}\")\n",
    "print(f\"Portfolio Risk (Standard Deviation): {portfolio_risk:.4f}\")"
   ]
  },
  {
   "cell_type": "markdown",
   "id": "1e0386dc-9dc0-4136-90d1-531cbf8fc68c",
   "metadata": {},
   "source": [
    "Example: Medical Imaging (MRI Scan Processing)\n",
    "MRI scans and other medical images are stored as large arrays (pixel values). NumPy helps in processing and analyzing these images, such as enhancing image quality, extracting features, and applying filters.\n",
    "\n",
    "Real-Life Use: Doctors and medical professionals use processed images for diagnosis, for example, identifying tumors or tracking the progression of diseases like Alzheimer's.\n",
    "python\n",
    "Copy code\n"
   ]
  },
  {
   "cell_type": "code",
   "execution_count": 60,
   "id": "4153f4cf-26e7-4d2d-af33-3299719f1139",
   "metadata": {},
   "outputs": [],
   "source": [
    "from PIL import Image\n",
    "import numpy as np\n",
    "\n",
    "# Load an MRI scan image (as an example)\n",
    "image = Image.open('mri.jpg')\n",
    "\n",
    "# Convert image to a NumPy array\n",
    "image_array = np.array(image)\n",
    "\n",
    "# Apply a simple threshold to detect regions of interest (e.g., tumor)\n",
    "thresholded_image = (image_array > 100).astype(np.uint8) * 255\n",
    "\n",
    "# Convert back to image and show\n",
    "thresholded_image_pil = Image.fromarray(thresholded_image)\n",
    "thresholded_image_pil.show()\n"
   ]
  },
  {
   "cell_type": "code",
   "execution_count": null,
   "id": "2f64ea31-6b0e-41be-92d7-988f5e2f8eb8",
   "metadata": {},
   "outputs": [],
   "source": []
  }
 ],
 "metadata": {
  "kernelspec": {
   "display_name": "Python 3 (ipykernel)",
   "language": "python",
   "name": "python3"
  },
  "language_info": {
   "codemirror_mode": {
    "name": "ipython",
    "version": 3
   },
   "file_extension": ".py",
   "mimetype": "text/x-python",
   "name": "python",
   "nbconvert_exporter": "python",
   "pygments_lexer": "ipython3",
   "version": "3.11.7"
  }
 },
 "nbformat": 4,
 "nbformat_minor": 5
}
