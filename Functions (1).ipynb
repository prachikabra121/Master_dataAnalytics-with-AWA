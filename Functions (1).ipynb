{
  "cells": [
    {
      "cell_type": "code",
      "execution_count": null,
      "id": "9f0750bf-4b47-4b04-bb15-09ac54390571",
      "metadata": {
        "id": "9f0750bf-4b47-4b04-bb15-09ac54390571",
        "outputId": "bbb37578-8a55-4d8c-bdca-7b006bab793f"
      },
      "outputs": [
        {
          "name": "stdout",
          "output_type": "stream",
          "text": [
            "Hello, World!\n"
          ]
        }
      ],
      "source": [
        "def greet():\n",
        "    print(\"Hello, World!\")\n",
        "\n",
        "greet()  # Output: Hello, World!\n"
      ]
    },
    {
      "cell_type": "code",
      "execution_count": null,
      "id": "acc278c5-1e56-4720-b475-d954ccf8ab6e",
      "metadata": {
        "id": "acc278c5-1e56-4720-b475-d954ccf8ab6e",
        "outputId": "80588434-6237-4182-ae0d-8199ae90a3ac"
      },
      "outputs": [
        {
          "name": "stdout",
          "output_type": "stream",
          "text": [
            "Hello, Alice!\n"
          ]
        }
      ],
      "source": [
        "#Parameters\n",
        "def greet(name):\n",
        "    print(f\"Hello, {name}!\")\n",
        "\n",
        "greet(\"Alice\")  # Output: Hello, Alice!\n"
      ]
    },
    {
      "cell_type": "code",
      "execution_count": null,
      "id": "c32e9f2c-3271-4292-9f42-df12e09abe3c",
      "metadata": {
        "id": "c32e9f2c-3271-4292-9f42-df12e09abe3c",
        "outputId": "3ad89f5d-ebbf-4d00-898f-0b201abcaf06"
      },
      "outputs": [
        {
          "name": "stdout",
          "output_type": "stream",
          "text": [
            "8\n"
          ]
        }
      ],
      "source": [
        "def add(a, b):\n",
        "    return a + b\n",
        "\n",
        "result = add(5, 3)\n",
        "print(result)  # Output: 8\n"
      ]
    },
    {
      "cell_type": "code",
      "execution_count": null,
      "id": "f50225f1-5b30-472c-baab-c4ae53197749",
      "metadata": {
        "id": "f50225f1-5b30-472c-baab-c4ae53197749",
        "outputId": "d71cd3e3-8524-498d-e2d9-d8d6ee3ed08d"
      },
      "outputs": [
        {
          "name": "stdout",
          "output_type": "stream",
          "text": [
            "8\n",
            "9\n",
            "The output is None\n"
          ]
        }
      ],
      "source": [
        "def add(a, b):\n",
        "    print( a + b)\n",
        "\n",
        "#result = add(5, 3)\n",
        "#print(add(3,5))  # Output: None\n",
        "add(3,5)\n",
        "print(\"The output is\",add(4,5))\n"
      ]
    },
    {
      "cell_type": "code",
      "execution_count": null,
      "id": "b031ad03-1c07-4823-a881-a832087e9bbc",
      "metadata": {
        "id": "b031ad03-1c07-4823-a881-a832087e9bbc"
      },
      "outputs": [],
      "source": [
        "#Positional Arguments\n",
        "def subtract(a, b):\n",
        "    return a - b\n",
        "\n",
        "result = subtract(10, 5)  # Output: 5\n"
      ]
    },
    {
      "cell_type": "code",
      "execution_count": null,
      "id": "7c8ee606-3275-4ae3-a8b5-17b405d9232a",
      "metadata": {
        "id": "7c8ee606-3275-4ae3-a8b5-17b405d9232a",
        "outputId": "3ef53409-d737-4829-e35e-c956646cfa5f"
      },
      "outputs": [
        {
          "data": {
            "text/plain": [
              "5"
            ]
          },
          "execution_count": 13,
          "metadata": {},
          "output_type": "execute_result"
        }
      ],
      "source": [
        "result"
      ]
    },
    {
      "cell_type": "code",
      "execution_count": null,
      "id": "730acd24-5de1-43ae-966a-e4da6781c5ff",
      "metadata": {
        "id": "730acd24-5de1-43ae-966a-e4da6781c5ff"
      },
      "outputs": [],
      "source": [
        "#If we change the order\n",
        "def subtract(a, b):\n",
        "    return a - b\n",
        "\n",
        "result = subtract(5,10)  # Output: 5\n"
      ]
    },
    {
      "cell_type": "code",
      "execution_count": null,
      "id": "f6230fab-f742-4f8c-8b8e-134db5178d0b",
      "metadata": {
        "id": "f6230fab-f742-4f8c-8b8e-134db5178d0b",
        "outputId": "6d80e6b8-3bfa-4a05-8d4c-2a3e140c2f61"
      },
      "outputs": [
        {
          "data": {
            "text/plain": [
              "-5"
            ]
          },
          "execution_count": 15,
          "metadata": {},
          "output_type": "execute_result"
        }
      ],
      "source": [
        "result"
      ]
    },
    {
      "cell_type": "code",
      "execution_count": null,
      "id": "7d9dbfce-01e8-460c-8798-47b507e69e9f",
      "metadata": {
        "id": "7d9dbfce-01e8-460c-8798-47b507e69e9f"
      },
      "outputs": [],
      "source": [
        "# Keyword Arguments\n",
        "def multiply(a, b):\n",
        "    return a * b\n",
        "\n",
        "result = multiply(b=4, a=2)  # Output: 8\n"
      ]
    },
    {
      "cell_type": "code",
      "execution_count": null,
      "id": "539074e4-82fd-4923-9b30-dae21e0217d4",
      "metadata": {
        "id": "539074e4-82fd-4923-9b30-dae21e0217d4",
        "outputId": "2a65fde8-9ab7-4aa1-f4cd-1e567d6f7a33"
      },
      "outputs": [
        {
          "data": {
            "text/plain": [
              "8"
            ]
          },
          "execution_count": 17,
          "metadata": {},
          "output_type": "execute_result"
        }
      ],
      "source": [
        "result"
      ]
    },
    {
      "cell_type": "code",
      "execution_count": null,
      "id": "c0451666-25e1-44b5-8359-85301b361d90",
      "metadata": {
        "id": "c0451666-25e1-44b5-8359-85301b361d90",
        "outputId": "bddd499a-eb5e-4c59-90a0-63d316e41b8a"
      },
      "outputs": [
        {
          "name": "stdout",
          "output_type": "stream",
          "text": [
            "Hello, Guest!\n",
            "Hello, Alice!\n"
          ]
        }
      ],
      "source": [
        "#default argument\n",
        "def greet(name=\"Guest\"):\n",
        "    print(f\"Hello, {name}!\")\n",
        "\n",
        "greet()  # Output: Hello, Guest!\n",
        "greet(\"Alice\")  # Output: Hello, Alice!\n"
      ]
    },
    {
      "cell_type": "code",
      "execution_count": null,
      "id": "9db69dbe-5033-4338-a4c4-7b7290831ca1",
      "metadata": {
        "id": "9db69dbe-5033-4338-a4c4-7b7290831ca1",
        "outputId": "6614adc9-d1fe-493c-b29a-28ddc7cee2ae"
      },
      "outputs": [
        {
          "name": "stdout",
          "output_type": "stream",
          "text": [
            "10\n"
          ]
        }
      ],
      "source": [
        "#Variable-Length Arguments\n",
        "#*args: For non-keyworded variable-length arguments.\n",
        "def add(*args):\n",
        "    return sum(args)\n",
        "\n",
        "print(add(1, 2, 3, 4))  # Output: 10\n"
      ]
    },
    {
      "cell_type": "code",
      "execution_count": null,
      "id": "6f9bb445-2c7d-4d2b-9cb6-19f5c6d02897",
      "metadata": {
        "id": "6f9bb445-2c7d-4d2b-9cb6-19f5c6d02897",
        "outputId": "5a257244-0a0a-4a33-f03b-1c94c725d192"
      },
      "outputs": [
        {
          "name": "stdout",
          "output_type": "stream",
          "text": [
            "name: Alice\n",
            "age: 25\n"
          ]
        }
      ],
      "source": [
        "#**kwargs: For keyworded variable-length arguments.\n",
        "def print_details(**kwargs):\n",
        "    for key, value in kwargs.items():\n",
        "        print(f\"{key}: {value}\")\n",
        "\n",
        "print_details(name=\"Alice\", age=25)\n",
        "# Output:\n",
        "# name: Alice\n",
        "# age: 25\n"
      ]
    },
    {
      "cell_type": "code",
      "execution_count": null,
      "id": "4b747e00-e796-462e-91af-fd68d74cd66e",
      "metadata": {
        "id": "4b747e00-e796-462e-91af-fd68d74cd66e",
        "outputId": "3587abf8-b495-4c5b-d603-23414ffd9c69"
      },
      "outputs": [
        {
          "name": "stdout",
          "output_type": "stream",
          "text": [
            "10\n"
          ]
        },
        {
          "ename": "NameError",
          "evalue": "name 'x' is not defined",
          "output_type": "error",
          "traceback": [
            "\u001b[1;31m---------------------------------------------------------------------------\u001b[0m",
            "\u001b[1;31mNameError\u001b[0m                                 Traceback (most recent call last)",
            "Cell \u001b[1;32mIn[22], line 8\u001b[0m\n\u001b[0;32m      5\u001b[0m     \u001b[38;5;28mprint\u001b[39m(x)\n\u001b[0;32m      7\u001b[0m my_function()  \u001b[38;5;66;03m# Output: 10\u001b[39;00m\n\u001b[1;32m----> 8\u001b[0m \u001b[38;5;28mprint\u001b[39m(x)\n",
            "\u001b[1;31mNameError\u001b[0m: name 'x' is not defined"
          ]
        }
      ],
      "source": [
        "#Scope of Variables\n",
        "#Local Variables\n",
        "def my_function():\n",
        "    x = 10  # Local variable\n",
        "    print(x)\n",
        "\n",
        "my_function()  # Output: 10\n",
        "print(x)  # Error: 'x' is not defined\n"
      ]
    },
    {
      "cell_type": "code",
      "execution_count": null,
      "id": "861b731e-f495-44b4-8dca-4f358f41053d",
      "metadata": {
        "id": "861b731e-f495-44b4-8dca-4f358f41053d",
        "outputId": "10fc180f-58ec-4852-d0df-26ede1c35d47"
      },
      "outputs": [
        {
          "name": "stdout",
          "output_type": "stream",
          "text": [
            "10\n"
          ]
        }
      ],
      "source": [
        "#Global Variables\n",
        "x = 10  # Global variable\n",
        "\n",
        "def my_function():\n",
        "    print(x)\n",
        "\n",
        "my_function()  # Output: 10\n"
      ]
    },
    {
      "cell_type": "code",
      "execution_count": null,
      "id": "86eb8934-ba24-4804-99be-d396e0a27db2",
      "metadata": {
        "id": "86eb8934-ba24-4804-99be-d396e0a27db2",
        "outputId": "8361568c-0f30-4b91-ab3a-d647186dec1c"
      },
      "outputs": [
        {
          "name": "stdout",
          "output_type": "stream",
          "text": [
            "20\n"
          ]
        }
      ],
      "source": [
        "#global keyword\n",
        "x = 10\n",
        "\n",
        "def modify_global():\n",
        "    global x\n",
        "    x = 20\n",
        "\n",
        "modify_global()\n",
        "print(x)  # Output: 20\n"
      ]
    },
    {
      "cell_type": "code",
      "source": [],
      "metadata": {
        "id": "dFUXnwuBqfIw"
      },
      "id": "dFUXnwuBqfIw",
      "execution_count": null,
      "outputs": []
    },
    {
      "cell_type": "code",
      "execution_count": null,
      "id": "bb4f94db",
      "metadata": {
        "id": "bb4f94db",
        "outputId": "0bcda133-fd0e-4c4c-913a-56d45762e39f"
      },
      "outputs": [
        {
          "name": "stdout",
          "output_type": "stream",
          "text": [
            "Total Monthly Expenses: $1750\n"
          ]
        }
      ],
      "source": [
        "#Calculating Monthly Expenses\n",
        "#Scenario: You want to calculate your monthly expenses for rent, utilities, groceries, and entertainment.\n",
        "def calculate_expenses(rent, utilities, groceries, entertainment):\n",
        "    return rent + utilities + groceries + entertainment\n",
        "\n",
        "total = calculate_expenses(1200, 150, 300, 100)\n",
        "print(f\"Total Monthly Expenses: ${total}\")\n"
      ]
    },
    {
      "cell_type": "code",
      "execution_count": null,
      "id": "e394f794",
      "metadata": {
        "id": "e394f794",
        "outputId": "c19bc5a7-9552-4887-f103-87ca224b9b02"
      },
      "outputs": [
        {
          "name": "stdout",
          "output_type": "stream",
          "text": [
            "Temperature in Fahrenheit: 86.0\n"
          ]
        }
      ],
      "source": [
        "#Converting Temperature Units\n",
        "#Scenario: You are building a weather app that takes temperature input in Celsius and converts it to Fahrenheit.\n",
        "def celsius_to_fahrenheit(celsius):\n",
        "    return (celsius * 9/5) + 32\n",
        "\n",
        "temp_in_f = celsius_to_fahrenheit(30)\n",
        "print(f\"Temperature in Fahrenheit: {temp_in_f}\")\n"
      ]
    },
    {
      "cell_type": "code",
      "execution_count": null,
      "id": "08ade8c0",
      "metadata": {
        "id": "08ade8c0",
        "outputId": "1dd4dfac-ef04-447c-f061-796c8886376e"
      },
      "outputs": [
        {
          "name": "stdout",
          "output_type": "stream",
          "text": [
            "Total after Discount: $170.0\n"
          ]
        }
      ],
      "source": [
        "#Discount Calculator for Shopping\n",
        "#Scenario: You want to apply a discount to the total shopping bill based on a discount percentage.\n",
        "def apply_discount(total_amount, discount_percent):\n",
        "    discount = total_amount * (discount_percent / 100)\n",
        "    return total_amount - discount\n",
        "\n",
        "final_amount = apply_discount(200, 15)\n",
        "print(f\"Total after Discount: ${final_amount}\")\n"
      ]
    },
    {
      "cell_type": "code",
      "execution_count": null,
      "id": "dea97852",
      "metadata": {
        "id": "dea97852",
        "outputId": "dc1a0d59-d138-4982-d347-0825bae14fd3"
      },
      "outputs": [
        {
          "name": "stdout",
          "output_type": "stream",
          "text": [
            "Hello Anand, welcome to our community!\n"
          ]
        }
      ],
      "source": [
        "#Sending Automated Greetings to New Users\n",
        "#Scenario: You are building a website and want to automatically send a welcome message to new users.\n",
        "def send_welcome_message(username):\n",
        "    return f\"Hello {username}, welcome to our community!\"\n",
        "\n",
        "message = send_welcome_message(\"Anand\")\n",
        "print(message)\n",
        "\n"
      ]
    },
    {
      "cell_type": "code",
      "execution_count": null,
      "id": "06b3292d",
      "metadata": {
        "id": "06b3292d",
        "outputId": "13fd825a-c41b-4762-e88c-445de7b8028c"
      },
      "outputs": [
        {
          "name": "stdout",
          "output_type": "stream",
          "text": [
            "Distance: 5.0\n"
          ]
        }
      ],
      "source": [
        "#Distance Calculation between Two Points\n",
        "#Scenario: In a delivery service, you want to calculate the distance between two points to estimate delivery time.\n",
        "import math\n",
        "\n",
        "def calculate_distance(x1, y1, x2, y2):\n",
        "    return math.sqrt((x2 - x1)**2 + (y2 - y1)**2)\n",
        "\n",
        "distance = calculate_distance(3, 4, 7, 1)\n",
        "print(f\"Distance: {distance}\")\n"
      ]
    },
    {
      "cell_type": "code",
      "execution_count": null,
      "id": "0139e2f1",
      "metadata": {
        "id": "0139e2f1",
        "outputId": "1399388c-4c9e-4eb9-bc96-6001f1c8d8c0"
      },
      "outputs": [
        {
          "name": "stdout",
          "output_type": "stream",
          "text": [
            "Subtotal: $60\n",
            "Tax: $4.8\n",
            "Total: $64.8\n"
          ]
        }
      ],
      "source": [
        "#Generate Invoice for an Order\n",
        "#Scenario: In an e-commerce store, you need to generate an invoice for an order that includes item prices and tax.\n",
        "def generate_invoice(item_prices, tax_rate):\n",
        "    subtotal = sum(item_prices)\n",
        "    tax = subtotal * tax_rate\n",
        "    total = subtotal + tax\n",
        "    return f\"Subtotal: ${subtotal}\\nTax: ${tax}\\nTotal: ${total}\"\n",
        "\n",
        "invoice = generate_invoice([10, 20, 30], 0.08)\n",
        "print(invoice)\n"
      ]
    },
    {
      "cell_type": "code",
      "execution_count": null,
      "id": "2a9d3685",
      "metadata": {
        "id": "2a9d3685"
      },
      "outputs": [],
      "source": [
        "n = int(input(\"enter a number:\"))\n",
        "for i in range(1, n+1):\n",
        "    print(\" \"*(n-i)+ '*'*(2*i-1))"
      ]
    },
    {
      "cell_type": "code",
      "execution_count": null,
      "id": "30750c12",
      "metadata": {
        "colab": {
          "base_uri": "https://localhost:8080/"
        },
        "id": "30750c12",
        "outputId": "27808edc-64b3-4279-a8f0-16bffd87252f"
      },
      "outputs": [
        {
          "output_type": "stream",
          "name": "stdout",
          "text": [
            "    *\n"
          ]
        }
      ],
      "source": [
        "def pyramid(n):\n",
        "  for i in range(1, n+1):\n",
        "    return \" \"*(n-i)+ '*'*(2*i-1)\n",
        "\n",
        "print(pyramid(5))\n"
      ]
    },
    {
      "cell_type": "code",
      "execution_count": null,
      "id": "5dbe29d4",
      "metadata": {
        "id": "5dbe29d4"
      },
      "outputs": [],
      "source": []
    },
    {
      "cell_type": "code",
      "execution_count": null,
      "id": "292260e9",
      "metadata": {
        "id": "292260e9"
      },
      "outputs": [],
      "source": []
    },
    {
      "cell_type": "markdown",
      "id": "5e3a722e",
      "metadata": {
        "id": "5e3a722e"
      },
      "source": [
        "Lambda functions in Python are small, anonymous functions defined with the lambda keyword. They are often used for simple operations that can be written in a single line, especially in places where defining a full function might feel excessive, like in short expressions or as arguments in other functions (such as sorting or filtering lists)."
      ]
    },
    {
      "cell_type": "markdown",
      "id": "4882a691",
      "metadata": {
        "id": "4882a691"
      },
      "source": [
        "lambda arguments: expression\n",
        "\n",
        "\n",
        "Arguments: The input(s) to the lambda function.\n",
        "\n",
        "\n",
        "Expression: The operation performed with the arguments, returning the result.\n",
        "\n",
        "\n",
        "When to Use Lambda Functions\n",
        "\n",
        "\n",
        "\n",
        "For small, quick operations that only need a single line.\n",
        "\n",
        "\n",
        "To avoid defining a separate named function for a simple task.\n",
        "\n",
        "\n",
        "In functions that accept other functions as parameters (like map(), filter(), and sort())."
      ]
    },
    {
      "cell_type": "code",
      "execution_count": null,
      "id": "76f9a1e6-e81e-48a0-9d37-c70bbc937bf8",
      "metadata": {
        "colab": {
          "base_uri": "https://localhost:8080/"
        },
        "id": "76f9a1e6-e81e-48a0-9d37-c70bbc937bf8",
        "outputId": "01370f24-f194-4e66-b843-eb8bd97f445d"
      },
      "outputs": [
        {
          "output_type": "stream",
          "name": "stdout",
          "text": [
            "25\n"
          ]
        }
      ],
      "source": [
        "# Anonymous (Lambda) Functions\n",
        "#Lambda with Single Argument\n",
        "square = lambda x: x ** 2\n",
        "print(square(5))  # Output: 25\n",
        "\n"
      ]
    },
    {
      "cell_type": "code",
      "source": [
        "def square(x):\n",
        "  return x**2\n",
        "\n",
        "print(square(5))"
      ],
      "metadata": {
        "colab": {
          "base_uri": "https://localhost:8080/"
        },
        "id": "kCI9r42ur8jv",
        "outputId": "a1e97411-e60c-42c0-b09c-d73ee691d02e"
      },
      "id": "kCI9r42ur8jv",
      "execution_count": null,
      "outputs": [
        {
          "output_type": "stream",
          "name": "stdout",
          "text": [
            "25\n"
          ]
        }
      ]
    },
    {
      "cell_type": "code",
      "execution_count": null,
      "id": "1e7c8be4-3926-4ddc-9142-aa84721d826d",
      "metadata": {
        "id": "1e7c8be4-3926-4ddc-9142-aa84721d826d",
        "outputId": "78995b68-ef6d-4592-b011-9ba767b79aaf"
      },
      "outputs": [
        {
          "name": "stdout",
          "output_type": "stream",
          "text": [
            "8\n"
          ]
        }
      ],
      "source": [
        "#Lambda with Multiple Arguments\n",
        "add = lambda x, y: x + y\n",
        "print(add(3, 5))  # Output: 8\n"
      ]
    },
    {
      "cell_type": "code",
      "execution_count": null,
      "id": "3e6657cb-56a1-49c4-8e7d-fe10c259dd4c",
      "metadata": {
        "colab": {
          "base_uri": "https://localhost:8080/"
        },
        "id": "3e6657cb-56a1-49c4-8e7d-fe10c259dd4c",
        "outputId": "f0a63070-e208-47f7-c782-ba933969b212"
      },
      "outputs": [
        {
          "output_type": "stream",
          "name": "stdout",
          "text": [
            "20\n"
          ]
        }
      ],
      "source": [
        "#Lambda with Conditional Expression\n",
        "max_value = lambda x, y: x if x > y else y\n",
        "print(max_value(10, 20))  # Output: 20\n"
      ]
    },
    {
      "cell_type": "code",
      "source": [
        "x=5\n",
        "y=10\n",
        "if x>y:\n",
        "  print(x)\n",
        "else:\n",
        "  print(y)"
      ],
      "metadata": {
        "colab": {
          "base_uri": "https://localhost:8080/"
        },
        "id": "Sq3BEEIEvkSo",
        "outputId": "461b3de2-2a21-4fea-ded4-8a9fea1ae12f"
      },
      "id": "Sq3BEEIEvkSo",
      "execution_count": null,
      "outputs": [
        {
          "output_type": "stream",
          "name": "stdout",
          "text": [
            "10\n"
          ]
        }
      ]
    },
    {
      "cell_type": "markdown",
      "id": "d0785d97-e424-4cd2-8af6-00b63be2ddcb",
      "metadata": {
        "id": "d0785d97-e424-4cd2-8af6-00b63be2ddcb"
      },
      "source": [
        "#Recursion\n",
        "Recursion is a method where a function calls itself to solve a smaller instance of the same problem. It's a powerful concept that can be used to solve problems that can be broken down into smaller sub-problems, such as calculating factorials, generating Fibonacci numbers, and solving mathematical puzzles.\n",
        "\n"
      ]
    },
    {
      "cell_type": "code",
      "execution_count": null,
      "id": "145997ab-e917-47bf-b27b-02f6e1b5ce40",
      "metadata": {
        "id": "145997ab-e917-47bf-b27b-02f6e1b5ce40"
      },
      "outputs": [],
      "source": [
        "#Basic Structure of a Recursive Function\n",
        "#Every recursive function has two key parts:\n",
        "\n",
        "#1)Base Case: The condition that stops the recursion (prevents an infinite loop).\n",
        "#2)Recursive Case: The part where the function calls itself to solve a smaller problem."
      ]
    },
    {
      "cell_type": "raw",
      "id": "fbc39214-9009-4abf-82b8-26dbd06d077e",
      "metadata": {
        "id": "fbc39214-9009-4abf-82b8-26dbd06d077e"
      },
      "source": [
        "def recursive_function():\n",
        "    if base_case_condition:\n",
        "        return base_case_value\n",
        "    else:\n",
        "        return recursive_function(modified_parameters)\n"
      ]
    },
    {
      "cell_type": "raw",
      "id": "031349be-54d6-499b-a47f-54d05efc4b7e",
      "metadata": {
        "id": "031349be-54d6-499b-a47f-54d05efc4b7e"
      },
      "source": [
        "1. Factorial of a Number (Classic Example)\n",
        "The factorial of a number n is the product of all positive integers less than or equal to n. The factorial of n is defined as:\n",
        "\n",
        "n! = n * (n-1) * (n-2) * ... * 1*0!\n",
        "The base case is 0! = 1."
      ]
    },
    {
      "cell_type": "code",
      "execution_count": null,
      "id": "2629bb35-1e5a-4408-a61e-b456fa35ed81",
      "metadata": {
        "colab": {
          "base_uri": "https://localhost:8080/"
        },
        "id": "2629bb35-1e5a-4408-a61e-b456fa35ed81",
        "outputId": "260b1265-8885-4497-88b9-fcf13041897d"
      },
      "outputs": [
        {
          "output_type": "stream",
          "name": "stdout",
          "text": [
            "12\n"
          ]
        }
      ],
      "source": [
        "def factorial(n):\n",
        "    if n == -5:  # Base case\n",
        "        return 1\n",
        "    else:\n",
        "        return n * factorial(n - 1)  # Recursive case 1:4*3*2*1*1* = 24\n",
        "                                                 #case2:3*fact(2)\n",
        "                                                  #case4: 1*fact(0)\n",
        "print(factorial(-3))  # Output: 120 (because 5*4*3*2*1 = 120)\n"
      ]
    },
    {
      "cell_type": "code",
      "source": [
        "def fact(n):\n",
        "  return n * factorial(n - 1)\n",
        "print(fact(0))"
      ],
      "metadata": {
        "colab": {
          "base_uri": "https://localhost:8080/",
          "height": 356
        },
        "id": "A32oXULDzNJL",
        "outputId": "fde17fc8-bebb-4331-8244-c682737c8112"
      },
      "id": "A32oXULDzNJL",
      "execution_count": null,
      "outputs": [
        {
          "output_type": "error",
          "ename": "RecursionError",
          "evalue": "maximum recursion depth exceeded in comparison",
          "traceback": [
            "\u001b[0;31m---------------------------------------------------------------------------\u001b[0m",
            "\u001b[0;31mRecursionError\u001b[0m                            Traceback (most recent call last)",
            "\u001b[0;32m<ipython-input-10-4100c291499c>\u001b[0m in \u001b[0;36m<cell line: 3>\u001b[0;34m()\u001b[0m\n\u001b[1;32m      1\u001b[0m \u001b[0;32mdef\u001b[0m \u001b[0mfact\u001b[0m\u001b[0;34m(\u001b[0m\u001b[0mn\u001b[0m\u001b[0;34m)\u001b[0m\u001b[0;34m:\u001b[0m\u001b[0;34m\u001b[0m\u001b[0;34m\u001b[0m\u001b[0m\n\u001b[1;32m      2\u001b[0m   \u001b[0;32mreturn\u001b[0m \u001b[0mn\u001b[0m \u001b[0;34m*\u001b[0m \u001b[0mfactorial\u001b[0m\u001b[0;34m(\u001b[0m\u001b[0mn\u001b[0m \u001b[0;34m-\u001b[0m \u001b[0;36m1\u001b[0m\u001b[0;34m)\u001b[0m\u001b[0;34m\u001b[0m\u001b[0;34m\u001b[0m\u001b[0m\n\u001b[0;32m----> 3\u001b[0;31m \u001b[0mprint\u001b[0m\u001b[0;34m(\u001b[0m\u001b[0mfact\u001b[0m\u001b[0;34m(\u001b[0m\u001b[0;36m0\u001b[0m\u001b[0;34m)\u001b[0m\u001b[0;34m)\u001b[0m\u001b[0;34m\u001b[0m\u001b[0;34m\u001b[0m\u001b[0m\n\u001b[0m",
            "\u001b[0;32m<ipython-input-10-4100c291499c>\u001b[0m in \u001b[0;36mfact\u001b[0;34m(n)\u001b[0m\n\u001b[1;32m      1\u001b[0m \u001b[0;32mdef\u001b[0m \u001b[0mfact\u001b[0m\u001b[0;34m(\u001b[0m\u001b[0mn\u001b[0m\u001b[0;34m)\u001b[0m\u001b[0;34m:\u001b[0m\u001b[0;34m\u001b[0m\u001b[0;34m\u001b[0m\u001b[0m\n\u001b[0;32m----> 2\u001b[0;31m   \u001b[0;32mreturn\u001b[0m \u001b[0mn\u001b[0m \u001b[0;34m*\u001b[0m \u001b[0mfactorial\u001b[0m\u001b[0;34m(\u001b[0m\u001b[0mn\u001b[0m \u001b[0;34m-\u001b[0m \u001b[0;36m1\u001b[0m\u001b[0;34m)\u001b[0m\u001b[0;34m\u001b[0m\u001b[0;34m\u001b[0m\u001b[0m\n\u001b[0m\u001b[1;32m      3\u001b[0m \u001b[0mprint\u001b[0m\u001b[0;34m(\u001b[0m\u001b[0mfact\u001b[0m\u001b[0;34m(\u001b[0m\u001b[0;36m0\u001b[0m\u001b[0;34m)\u001b[0m\u001b[0;34m)\u001b[0m\u001b[0;34m\u001b[0m\u001b[0;34m\u001b[0m\u001b[0m\n",
            "\u001b[0;32m<ipython-input-7-b81b67f9f87f>\u001b[0m in \u001b[0;36mfactorial\u001b[0;34m(n)\u001b[0m\n\u001b[1;32m      3\u001b[0m         \u001b[0;32mreturn\u001b[0m \u001b[0;36m1\u001b[0m\u001b[0;34m\u001b[0m\u001b[0;34m\u001b[0m\u001b[0m\n\u001b[1;32m      4\u001b[0m     \u001b[0;32melse\u001b[0m\u001b[0;34m:\u001b[0m\u001b[0;34m\u001b[0m\u001b[0;34m\u001b[0m\u001b[0m\n\u001b[0;32m----> 5\u001b[0;31m         \u001b[0;32mreturn\u001b[0m \u001b[0mn\u001b[0m \u001b[0;34m*\u001b[0m \u001b[0mfactorial\u001b[0m\u001b[0;34m(\u001b[0m\u001b[0mn\u001b[0m \u001b[0;34m-\u001b[0m \u001b[0;36m1\u001b[0m\u001b[0;34m)\u001b[0m  \u001b[0;31m# Recursive case-->5*()\u001b[0m\u001b[0;34m\u001b[0m\u001b[0;34m\u001b[0m\u001b[0m\n\u001b[0m\u001b[1;32m      6\u001b[0m \u001b[0;34m\u001b[0m\u001b[0m\n\u001b[1;32m      7\u001b[0m \u001b[0mprint\u001b[0m\u001b[0;34m(\u001b[0m\u001b[0mfactorial\u001b[0m\u001b[0;34m(\u001b[0m\u001b[0;36m10\u001b[0m\u001b[0;34m)\u001b[0m\u001b[0;34m)\u001b[0m  \u001b[0;31m# Output: 120 (because 5*4*3*2*1 = 120)\u001b[0m\u001b[0;34m\u001b[0m\u001b[0;34m\u001b[0m\u001b[0m\n",
            "... last 1 frames repeated, from the frame below ...\n",
            "\u001b[0;32m<ipython-input-7-b81b67f9f87f>\u001b[0m in \u001b[0;36mfactorial\u001b[0;34m(n)\u001b[0m\n\u001b[1;32m      3\u001b[0m         \u001b[0;32mreturn\u001b[0m \u001b[0;36m1\u001b[0m\u001b[0;34m\u001b[0m\u001b[0;34m\u001b[0m\u001b[0m\n\u001b[1;32m      4\u001b[0m     \u001b[0;32melse\u001b[0m\u001b[0;34m:\u001b[0m\u001b[0;34m\u001b[0m\u001b[0;34m\u001b[0m\u001b[0m\n\u001b[0;32m----> 5\u001b[0;31m         \u001b[0;32mreturn\u001b[0m \u001b[0mn\u001b[0m \u001b[0;34m*\u001b[0m \u001b[0mfactorial\u001b[0m\u001b[0;34m(\u001b[0m\u001b[0mn\u001b[0m \u001b[0;34m-\u001b[0m \u001b[0;36m1\u001b[0m\u001b[0;34m)\u001b[0m  \u001b[0;31m# Recursive case-->5*()\u001b[0m\u001b[0;34m\u001b[0m\u001b[0;34m\u001b[0m\u001b[0m\n\u001b[0m\u001b[1;32m      6\u001b[0m \u001b[0;34m\u001b[0m\u001b[0m\n\u001b[1;32m      7\u001b[0m \u001b[0mprint\u001b[0m\u001b[0;34m(\u001b[0m\u001b[0mfactorial\u001b[0m\u001b[0;34m(\u001b[0m\u001b[0;36m10\u001b[0m\u001b[0;34m)\u001b[0m\u001b[0;34m)\u001b[0m  \u001b[0;31m# Output: 120 (because 5*4*3*2*1 = 120)\u001b[0m\u001b[0;34m\u001b[0m\u001b[0;34m\u001b[0m\u001b[0m\n",
            "\u001b[0;31mRecursionError\u001b[0m: maximum recursion depth exceeded in comparison"
          ]
        }
      ]
    },
    {
      "cell_type": "code",
      "source": [
        "n= 10\n",
        "fact = 1\n",
        "for i in range(1,n+1):\n",
        "    fact = fact*i\n",
        "print(fact)"
      ],
      "metadata": {
        "colab": {
          "base_uri": "https://localhost:8080/"
        },
        "id": "-Cm2vc9PyzyV",
        "outputId": "2997cf21-c928-4182-eb68-915ac21d0a4b"
      },
      "id": "-Cm2vc9PyzyV",
      "execution_count": null,
      "outputs": [
        {
          "output_type": "stream",
          "name": "stdout",
          "text": [
            "3628800\n"
          ]
        }
      ]
    },
    {
      "cell_type": "raw",
      "id": "510fbf8b-0050-491b-8ab8-f04d2173cc93",
      "metadata": {
        "id": "510fbf8b-0050-491b-8ab8-f04d2173cc93"
      },
      "source": [
        "#Fibonacci Sequence\n",
        "The Fibonacci sequence is a series of numbers where each number is the sum of the two preceding ones, typically starting with 0 and 1.\n",
        "\n",
        "Fib(0) = 0\n",
        "Fib(1) = 1\n",
        "Fib(n) = Fib(n-1) + Fib(n-2)"
      ]
    },
    {
      "cell_type": "code",
      "execution_count": null,
      "id": "eff07d6c-9cfc-44e1-8168-35e2d33a2e84",
      "metadata": {
        "colab": {
          "base_uri": "https://localhost:8080/"
        },
        "id": "eff07d6c-9cfc-44e1-8168-35e2d33a2e84",
        "outputId": "b1ef365d-6fc3-4e83-aefc-12efe6b2f69c"
      },
      "outputs": [
        {
          "output_type": "stream",
          "name": "stdout",
          "text": [
            "8\n"
          ]
        }
      ],
      "source": [
        "def fibonacci(n):\n",
        "    if n == 0:  # Base case\n",
        "        return 0\n",
        "    elif n == 1:  # Base case a,b=0,1; a,b=b,a+b\n",
        "        return 1\n",
        "    else:          #fib(5)= fib(4)+fib(3)+fib(3)+fib(2)\n",
        "        return fibonacci(n - 1) + fibonacci(n - 2)  # Recursive case\n",
        "\n",
        "print(fibonacci(6))  # Output: 8 (sequence is 0, 1, 1, 2, 3, 5, 8)\n"
      ]
    },
    {
      "cell_type": "code",
      "execution_count": null,
      "id": "e3007ef2-e143-4597-9abf-6bd274bf623f",
      "metadata": {
        "id": "e3007ef2-e143-4597-9abf-6bd274bf623f",
        "outputId": "6ce0341f-0df5-45d7-8b1d-8755a5c6988e"
      },
      "outputs": [
        {
          "name": "stdout",
          "output_type": "stream",
          "text": [
            "15\n"
          ]
        }
      ],
      "source": [
        "#Sum of a List of Numbers\n",
        "def sum_list(numbers):\n",
        "    if len(numbers) == 0:  # Base case\n",
        "        return 0\n",
        "    else:\n",
        "        return numbers[0] + sum_list(numbers[1:])  # Recursive case\n",
        "               # 1   +  sum_list([2,3,4,5])\n",
        "               # 2   +  sum_list([3,4,5])\n",
        "               # 3   +  sum_list([4,5])\n",
        "               # 4   +  sum_list([5])\n",
        "               # 5   +  0\n",
        "\n",
        "numbers = [1, 2, 3, 4, 5]\n",
        "print(sum_list(numbers))  # Output: 15\n"
      ]
    },
    {
      "cell_type": "markdown",
      "source": [
        "**Real-Life Analogy**\n",
        "\n",
        "Imagine you have a friend who loves to bake cakes. They have a basic chocolate cake recipe but sometimes want to \"decorate\" it for special occasions:\n",
        "\n",
        "For birthdays, they add frosting and candles.\n",
        "For holidays, they sprinkle powdered sugar and add holiday toppings.\n",
        "The cake itself doesn’t change; they’re just adding something extra on top based on the occasion. In programming, decorators do something similar—they let us add extra behavior to functions without changing the function itself."
      ],
      "metadata": {
        "id": "fYemHvHsLD9M"
      },
      "id": "fYemHvHsLD9M"
    },
    {
      "cell_type": "markdown",
      "source": [
        "**Step-by-Step Example**\n",
        "\n",
        "Let’s create a decorator that adds a greeting to any message.\n",
        "\n",
        "This is like putting frosting on our \"message cake.\""
      ],
      "metadata": {
        "id": "25cmsHIpLQpM"
      },
      "id": "25cmsHIpLQpM"
    },
    {
      "cell_type": "code",
      "source": [
        "def add_greeting(func):\n",
        "    def wrapper(name):\n",
        "        print(\"Hello!\", end=\" \")\n",
        "        func(name)  # original function\n",
        "    return wrapper\n"
      ],
      "metadata": {
        "id": "exSRUDBkLPA0"
      },
      "id": "exSRUDBkLPA0",
      "execution_count": null,
      "outputs": []
    },
    {
      "cell_type": "code",
      "source": [
        "#Now, we’ll use it to \"decorate\" different functions:\n",
        "@add_greeting\n",
        "def welcome_message(name):\n",
        "    print(f\"{name}, welcome to the event!\")\n",
        "\n",
        "@add_greeting\n",
        "def goodbye_message(name):\n",
        "    print(f\"{name}, have a great day!\")\n"
      ],
      "metadata": {
        "id": "2pTZPAlpMhWs"
      },
      "id": "2pTZPAlpMhWs",
      "execution_count": null,
      "outputs": []
    },
    {
      "cell_type": "markdown",
      "source": [
        "**How func() Works:**\n",
        "\n",
        "func as a Parameter: When you apply @add_greeting to a function, that function (e.g., welcome_message) is passed as an argument to add_greeting and becomes func inside it.\n",
        "\n",
        "Calling func() Inside wrapper: Inside the wrapper, we use func(name) to call the original function (welcome_message) with the provided argument (name).\n",
        "\n",
        " This line allows the original function to run with its normal behavior while being wrapped by additional code (in this case, print(\"Hello!\", end=\" \"))."
      ],
      "metadata": {
        "id": "vcOT-1HaNVkt"
      },
      "id": "vcOT-1HaNVkt"
    },
    {
      "cell_type": "code",
      "source": [
        "#Using the Decorator\n",
        "#When we call welcome_message(\"Alice\"), it’s like the decorator is adding a \"Hello!\" greeting before our message:\n",
        "\n",
        "welcome_message(\"Alice\")\n",
        "# Output: Hello! Alice, welcome to the event!\n"
      ],
      "metadata": {
        "colab": {
          "base_uri": "https://localhost:8080/"
        },
        "id": "8mBFYYRo_e3H",
        "outputId": "c1a38914-71cc-4e7d-9e65-230605240f20"
      },
      "id": "8mBFYYRo_e3H",
      "execution_count": null,
      "outputs": [
        {
          "output_type": "stream",
          "name": "stdout",
          "text": [
            "Hello! Alice, welcome to the event!\n"
          ]
        }
      ]
    },
    {
      "cell_type": "code",
      "source": [
        "goodbye_message(\"prachi\")"
      ],
      "metadata": {
        "colab": {
          "base_uri": "https://localhost:8080/"
        },
        "id": "mEbiCaJHNF5Z",
        "outputId": "4bd058f2-8b73-414e-ded4-65c4434f3bac"
      },
      "id": "mEbiCaJHNF5Z",
      "execution_count": null,
      "outputs": [
        {
          "output_type": "stream",
          "name": "stdout",
          "text": [
            "Hello! prachi, have a great day!\n"
          ]
        }
      ]
    },
    {
      "cell_type": "markdown",
      "source": [
        "**What Happens Step-by-Step:**\n",
        "\n",
        "Decorating with @add_greeting:\n",
        "\n",
        "@add_greeting makes welcome_message pass into add_greeting.\n",
        "\n",
        "Inside add_greeting, func becomes a reference to welcome_message.\n",
        "\n",
        "Calling welcome_message(\"Alice\"):\n",
        "\n",
        "Since welcome_message is decorated, it’s now replaced by the wrapper function.\n",
        "wrapper runs and first prints \"Hello! \".\n",
        "\n",
        "func(name) (which is welcome_message(\"Alice\")) is called inside wrapper, so \"Alice, welcome to the event!\" is printed by the original function.\n",
        "\n",
        "So, func() inside the decorator is simply calling the original function as it would normally run, letting the decorator add behavior around it."
      ],
      "metadata": {
        "id": "Sphe2MLROHOY"
      },
      "id": "Sphe2MLROHOY"
    },
    {
      "cell_type": "markdown",
      "source": [
        "# **Real-Life Analogy: **\n",
        "\n",
        "**Security Check at an Event**\n",
        "\n",
        "Imagine you’re hosting an exclusive event where only guests with an invitation can enter.\n",
        "\n",
        "You have a list of activities (functions) that are accessible only to invited guests.\n",
        "\n",
        "Instead of adding a security check at every activity, you can create a decorator that acts like a security guard.\n",
        "\n",
        "This decorator will check if a guest has an invitation before they can enter any activity."
      ],
      "metadata": {
        "id": "i9abv-2ROvoj"
      },
      "id": "i9abv-2ROvoj"
    },
    {
      "cell_type": "code",
      "source": [
        "#We’ll create a check_invitation decorator that verifies if a person has an invitation before letting them access certain functions.#\n",
        "# The decorator function\n",
        "def check_invitation(func):\n",
        "    def wrapper(guest):\n",
        "        if guest.get(\"invited\"):\n",
        "            return func(guest)  # Original function executes if invited\n",
        "        else:\n",
        "            print(f\"Sorry, {guest['name']}! You are not on the guest list.\")\n",
        "    return wrapper\n",
        "\n",
        "# Decorated functions\n",
        "@check_invitation\n",
        "def entry(guest):\n",
        "    print(f\"Welcome, {guest['name']}! Enjoy the event.\")\n",
        "\n",
        "@check_invitation\n",
        "def access_vip_area(guest):\n",
        "    print(f\"{guest['name']}, you now have access to the VIP area.\")\n",
        "\n",
        "# Guests\n",
        "guest1 = {\"name\": \"Alice\", \"invited\": True}\n",
        "guest2 = {\"name\": \"Bob\", \"invited\": False}\n",
        "\n",
        "# Calling functions\n",
        "entry(guest1)  # Allowed entry\n",
        "entry(guest2)  # Denied entry\n",
        "access_vip_area(guest1)  # Allowed VIP access\n",
        "access_vip_area(guest2)  # Denied VIP access\n"
      ],
      "metadata": {
        "colab": {
          "base_uri": "https://localhost:8080/"
        },
        "id": "F6NBRFiDNHeH",
        "outputId": "d232cddf-8298-4168-ef07-638dbde58ec2"
      },
      "id": "F6NBRFiDNHeH",
      "execution_count": null,
      "outputs": [
        {
          "output_type": "stream",
          "name": "stdout",
          "text": [
            "Welcome, Alice! Enjoy the event.\n",
            "Sorry, Bob! You are not on the guest list.\n",
            "Alice, you now have access to the VIP area.\n",
            "Sorry, Bob! You are not on the guest list.\n"
          ]
        }
      ]
    },
    {
      "cell_type": "markdown",
      "source": [
        "**The check_invitation Decorator:**\n",
        "\n",
        "check_invitation accepts a function (func) and returns the wrapper function.\n",
        "Inside wrapper, it checks if the guest has \"invited\": True in their dictionary.\n",
        "Calling entry and access_vip_area:\n",
        "\n",
        "When you call entry(guest1), the decorator checks if guest1 has an invitation. Since \"invited\": True, it allows entry and executes entry(guest1).\n",
        "If guest2 tries to access, the decorator will deny access since \"invited\": False."
      ],
      "metadata": {
        "id": "wm4WEetgPTYm"
      },
      "id": "wm4WEetgPTYm"
    },
    {
      "cell_type": "markdown",
      "source": [
        "**Why This Example Works**\n",
        "\n",
        "\n",
        "Just like a security guard controls access to each activity, the decorator\n",
        "controls access to functions based on a condition. This approach:\n",
        "\n",
        "Keeps the original functions simple: They only focus on what happens once a guest is allowed in.\n",
        "Makes security checks reusable: We don’t need to write the same invitation check for each function; the decorator handles it.\n"
      ],
      "metadata": {
        "id": "shOLo3YTPntU"
      },
      "id": "shOLo3YTPntU"
    },
    {
      "cell_type": "code",
      "source": [],
      "metadata": {
        "id": "ejZ8alVTPgKq"
      },
      "id": "ejZ8alVTPgKq",
      "execution_count": null,
      "outputs": []
    }
  ],
  "metadata": {
    "kernelspec": {
      "display_name": "Python 3 (ipykernel)",
      "language": "python",
      "name": "python3"
    },
    "language_info": {
      "codemirror_mode": {
        "name": "ipython",
        "version": 3
      },
      "file_extension": ".py",
      "mimetype": "text/x-python",
      "name": "python",
      "nbconvert_exporter": "python",
      "pygments_lexer": "ipython3",
      "version": "3.11.7"
    },
    "colab": {
      "provenance": []
    }
  },
  "nbformat": 4,
  "nbformat_minor": 5
}