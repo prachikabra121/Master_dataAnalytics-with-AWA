{
 "cells": [
  {
   "cell_type": "markdown",
   "id": "431fbc26-38a0-4f6c-9dbd-3cce00481e7b",
   "metadata": {},
   "source": [
    "<h1>What are Python Comprehensions?</h1>\n",
    "Comprehensions are a way to create lists, dictionaries, and sets in Python in a concise, readable manner. Instead of using loops and appending items, you can use a single line of code to achieve the same result.\n",
    "\n",
    "<h3>They make your code:</h3>\n",
    "\n",
    "More Concise: Reduces unnecessary lines of code.\n",
    "\n",
    "Readable: Helps understand logic at a glance.\n",
    "\n",
    "Efficient: Faster than traditional loops in most cases."
   ]
  },
  {
   "cell_type": "markdown",
   "id": "89bf9ab4-cc44-4553-ad54-8ed03a70bea7",
   "metadata": {},
   "source": [
    "<h2>1. List Comprehensions</h2>\n",
    "<h3>What are they?</h3>\n",
    "\n",
    "List comprehensions allow you to construct a new list by processing each item in an iterable (like a range or an existing list) and optionally applying conditions.\n",
    "\n",
    "Syntax:\n",
    "\n",
    "[expression for item in iterable if condition]\r\n",
    "\n",
    "Expression: A transformation or calculation applied to each item.\n",
    "\n",
    "Iterable: Any sequence, such as a list, range, or string.\n",
    "\n",
    "Condition: A filter to include only specific items (optional).\n",
    "\n"
   ]
  },
  {
   "cell_type": "markdown",
   "id": "fd4ddd96-3c5f-4b39-af3e-a640bddaaf35",
   "metadata": {},
   "source": [
    "Generate Squares of Numbers\n",
    "\n",
    "Calculate squares for numbers from 1 to 5:"
   ]
  },
  {
   "cell_type": "code",
   "execution_count": 9,
   "id": "437dc05f-3f32-4236-ad24-6d9de1fe59d7",
   "metadata": {},
   "outputs": [
    {
     "name": "stdout",
     "output_type": "stream",
     "text": [
      "[1, 4, 9, 16, 25]\n"
     ]
    }
   ],
   "source": [
    "squares = [x**2 for x in range(1, 6)]\n",
    "print(squares)  # Output: [1, 4, 9, 16, 25]\n"
   ]
  },
  {
   "cell_type": "code",
   "execution_count": 11,
   "id": "09a3daa4-eea8-44d4-82b3-e7aea45dc6cc",
   "metadata": {},
   "outputs": [
    {
     "name": "stdout",
     "output_type": "stream",
     "text": [
      "[4, 16]\n"
     ]
    }
   ],
   "source": [
    "squares = [x**2 for x in range(1, 6) if x%2==0]\n",
    "print(squares)  # Output: [1, 4, 9, 16, 25]"
   ]
  },
  {
   "cell_type": "code",
   "execution_count": 8,
   "id": "ec6ebcbb-d376-4890-a234-41f6c5d3da4d",
   "metadata": {},
   "outputs": [
    {
     "name": "stdout",
     "output_type": "stream",
     "text": [
      "[1, 4, 9, 16, 25]\n"
     ]
    }
   ],
   "source": [
    "l=[]\n",
    "for i in range(1,6):\n",
    "    l.append(i*i)\n",
    "print(l)"
   ]
  },
  {
   "cell_type": "code",
   "execution_count": 12,
   "id": "a45f263d-d54f-40fe-b501-696d0c9d1fd7",
   "metadata": {},
   "outputs": [
    {
     "name": "stdout",
     "output_type": "stream",
     "text": [
      "[4, 16]\n"
     ]
    }
   ],
   "source": [
    "l=[]\n",
    "for i in range(1,6):\n",
    "    if i%2==0:\n",
    "       l.append(i*i)\n",
    "print(l)"
   ]
  },
  {
   "cell_type": "code",
   "execution_count": 13,
   "id": "27c23d92-187a-451a-9150-fa53a8c96010",
   "metadata": {},
   "outputs": [
    {
     "name": "stdout",
     "output_type": "stream",
     "text": [
      "['ALICE', 'BOB', 'CHARLIE']\n"
     ]
    }
   ],
   "source": [
    "#Convert Strings to Uppercase\n",
    "names = [\"alice\", \"bob\", \"charlie\"]\n",
    "uppercased = [name.upper() for name in names]\n",
    "print(uppercased)  # Output: ['ALICE', 'BOB', 'CHARLIE']\n"
   ]
  },
  {
   "cell_type": "markdown",
   "id": "fe375c6f-c7a3-467b-b24e-2cc88b8ff6b5",
   "metadata": {},
   "source": [
    "<h2>2. Dictionary Comprehensions</h2>\n",
    "<h3>What are they?</h3>\n",
    "\n",
    "Dictionary comprehensions allow you to create dictionaries by specifying key-value pairs for each item in an iterable.\n",
    "Syntax:\n",
    "\n",
    "{key_expression: value_expression for item in iterable if condition}\r\n",
    "\n"
   ]
  },
  {
   "cell_type": "code",
   "execution_count": 14,
   "id": "2c3ba181-2ad1-4ee6-bc3c-24007f1f0699",
   "metadata": {},
   "outputs": [
    {
     "name": "stdout",
     "output_type": "stream",
     "text": [
      "{1: 1, 2: 4, 3: 9, 4: 16, 5: 25}\n"
     ]
    }
   ],
   "source": [
    "#Create a dictionary where keys are numbers and values are their squares\n",
    "squares_dict = {x: x**2 for x in range(1, 6)}\n",
    "print(squares_dict)  # Output: {1: 1, 2: 4, 3: 9, 4: 16, 5: 25}\n"
   ]
  },
  {
   "cell_type": "code",
   "execution_count": 15,
   "id": "a25a30b9-9ffc-4f8a-92b6-9e07afe96bc4",
   "metadata": {},
   "outputs": [
    {
     "name": "stdout",
     "output_type": "stream",
     "text": [
      "{1: 'a', 2: 'b', 3: 'c'}\n"
     ]
    }
   ],
   "source": [
    "#Swap keys and values of an existing dictionary\n",
    "original_dict = {'a': 1, 'b': 2, 'c': 3}\n",
    "reversed_dict = {v: k for k, v in original_dict.items()}\n",
    "print(reversed_dict)  # Output: {1: 'a', 2: 'b', 3: 'c'}\n",
    "\n"
   ]
  },
  {
   "cell_type": "markdown",
   "id": "55058d55-8c61-4ddb-ae0f-550d5fca2b52",
   "metadata": {},
   "source": [
    "<h2>3. Set Comprehensions</h2>\n",
    "<h3>What are they?</h3>\n",
    "\n",
    "Similar to list comprehensions, but the result is a set—a collection of unique, unordered elements.\n",
    "\n",
    "Syntax:\n",
    "\n",
    "\n",
    "{expression for item in iterable if condition}"
   ]
  },
  {
   "cell_type": "code",
   "execution_count": 16,
   "id": "15d90529-e63e-475a-8a66-5b303f8b4779",
   "metadata": {},
   "outputs": [
    {
     "name": "stdout",
     "output_type": "stream",
     "text": [
      "{16, 1, 4, 9}\n"
     ]
    }
   ],
   "source": [
    "#Generate a set of squares for numbers in a list:\n",
    "unique_squares = {x**2 for x in [1, 2, 2, 3, 4, 4]}\n",
    "print(unique_squares)  # Output: {1, 4, 9, 16}\n"
   ]
  },
  {
   "cell_type": "code",
   "execution_count": 19,
   "id": "830b6ded-7261-4999-aad6-bea4afbcbdd2",
   "metadata": {},
   "outputs": [
    {
     "name": "stdout",
     "output_type": "stream",
     "text": [
      "{'a', 'is', 'test', 'fun!', 'this'}\n"
     ]
    }
   ],
   "source": [
    "#Get unique lowercase words from a sentence:\n",
    "sentence = \"This is a test This test is fun!\"\n",
    "words = {word.lower() for word in sentence.split()}\n",
    "print(words)  # Output: {'this', 'is', 'a', 'test', 'fun!'}\n"
   ]
  },
  {
   "cell_type": "markdown",
   "id": "613101c6-22e7-4b4c-8681-e6054666161b",
   "metadata": {},
   "source": [
    "<h2>4. Nested Comprehensions</h2>\n",
    "<h3>What are they?</h3>\n",
    "\n",
    "Comprehensions within comprehensions are useful for working with multi-dimensional data."
   ]
  },
  {
   "cell_type": "code",
   "execution_count": 21,
   "id": "c454260f-4e6e-4992-86f3-e3b0dd1fb5f9",
   "metadata": {},
   "outputs": [
    {
     "name": "stdout",
     "output_type": "stream",
     "text": [
      "[[1, 2, 3], [2, 4, 6], [3, 6, 9]]\n"
     ]
    }
   ],
   "source": [
    "#Generate a 3x3 multiplication table:\n",
    "table = [[x * y for y in range(1, 4)] for x in range(1, 4)]\n",
    "print(table)  # Output: [[1, 2, 3], [2, 4, 6], [3, 6, 9]]\n"
   ]
  },
  {
   "cell_type": "code",
   "execution_count": 25,
   "id": "03b6e795-235d-4e6e-a66d-4ed7278a17cf",
   "metadata": {},
   "outputs": [
    {
     "name": "stdout",
     "output_type": "stream",
     "text": [
      "[[1, 2, 3], [2, 4, 6], [3, 6, 9]]\n"
     ]
    }
   ],
   "source": [
    "l=[]\n",
    "for x in range(1,4):\n",
    "    l1=[]\n",
    "    for y in range(1,4):\n",
    "        l1.append(x*y)\n",
    "    l.append(l1)\n",
    "print(l)"
   ]
  },
  {
   "cell_type": "code",
   "execution_count": 26,
   "id": "fa0b8cdf-279b-4b58-9604-a64772e887a7",
   "metadata": {},
   "outputs": [
    {
     "name": "stdout",
     "output_type": "stream",
     "text": [
      "[1, 2, 3, 4, 5, 6]\n"
     ]
    }
   ],
   "source": [
    "#Flatten a 2D list into a 1D list:\n",
    "matrix = [[1, 2], [3, 4], [5, 6]]\n",
    "flat_list = [num for row in matrix for num in row]\n",
    "print(flat_list)  # Output: [1, 2, 3, 4, 5, 6]\n"
   ]
  },
  {
   "cell_type": "code",
   "execution_count": 27,
   "id": "598bc92f-c1ed-4ae4-8748-3e2f7723907c",
   "metadata": {},
   "outputs": [
    {
     "name": "stdout",
     "output_type": "stream",
     "text": [
      "[1, 2, 3, 4, 5, 6]\n"
     ]
    }
   ],
   "source": [
    "matrix = [[1, 2], [3, 4], [5, 6]]\n",
    "l=[]\n",
    "for i in matrix:\n",
    "    for j in i:\n",
    "        l.append(j)\n",
    "print(l)\n",
    "        "
   ]
  },
  {
   "cell_type": "markdown",
   "id": "6c6fad73-3028-421d-a91f-0cd5394b76e9",
   "metadata": {},
   "source": [
    "List comprehensions, set comprehensions, and dictionary comprehensions are commonly used in production scenarios due to their concise syntax and efficiency. Below are examples of real-world use cases for comprehensions in production environments."
   ]
  },
  {
   "cell_type": "markdown",
   "id": "b5178881-635a-439e-8278-392e7058bd1c",
   "metadata": {},
   "source": [
    "USE CASES: \n",
    "\n",
    "<h2>1. Data Transformation</h2>\n",
    "\n",
    "\n",
    "Transforming data from one format to another is a common use case."
   ]
  },
  {
   "cell_type": "code",
   "execution_count": 52,
   "id": "afffe307-19ec-4a72-841c-a623158652d9",
   "metadata": {},
   "outputs": [
    {
     "name": "stdout",
     "output_type": "stream",
     "text": [
      "{'charlie', 'bob', 'alice'}\n"
     ]
    }
   ],
   "source": [
    "# Normalize names to lowercase and strip whitespace\n",
    "raw_names = [\" Alice \", \"BOB\", \"Charlie \"]\n",
    "cleaned_names = {name.strip().lower() for name in raw_names}\n",
    "print(cleaned_names)  # Output: {'alice', 'bob', 'charlie'}\n"
   ]
  },
  {
   "cell_type": "markdown",
   "id": "e913f684-e87a-4128-9351-04571fe6ccde",
   "metadata": {},
   "source": [
    "<h2>2. Filtering Data</h2>\n",
    "\n",
    "\n",
    "Filtering data based on conditions is frequent in production pipelines."
   ]
  },
  {
   "cell_type": "code",
   "execution_count": 57,
   "id": "769e103b-5bb6-4cfa-af5f-7fcbd36c4de1",
   "metadata": {},
   "outputs": [
    {
     "name": "stdout",
     "output_type": "stream",
     "text": [
      "['test@example.com', 'hello@domain.org']\n"
     ]
    }
   ],
   "source": [
    "emails = [\"test@example.com\", \"invalid-email\", \"hello@domain.org\", \"user@domain\"]\n",
    "valid_emails = [email for email in emails if \"@\" in email and \".\" in email]\n",
    "print(valid_emails)  # Output: ['test@example.com', 'hello@domain.org']\n"
   ]
  },
  {
   "cell_type": "markdown",
   "id": "d6fc1c2d-bab6-4f4a-a666-75ac11a6a1d0",
   "metadata": {},
   "source": [
    "<h2>3. Generating Reports</h2>\n",
    "\n",
    "Aggregating and processing data for reporting."
   ]
  },
  {
   "cell_type": "code",
   "execution_count": 58,
   "id": "9ef241f4-61ea-40d1-8d00-bb56ca1a2795",
   "metadata": {},
   "outputs": [
    {
     "name": "stdout",
     "output_type": "stream",
     "text": [
      "{'electronics': 2000, 'clothing': 300}\n"
     ]
    }
   ],
   "source": [
    "sales = [\n",
    "    {\"category\": \"electronics\", \"amount\": 1200},\n",
    "    {\"category\": \"clothing\", \"amount\": 300},\n",
    "    {\"category\": \"electronics\", \"amount\": 800},\n",
    "]\n",
    "# Aggregate sales by category\n",
    "sales_summary = {item[\"category\"]: sum(s[\"amount\"] for s in sales if s[\"category\"] == item[\"category\"]) for item in sales}\n",
    "print(sales_summary)  # Output: {'electronics': 2000, 'clothing': 300}\n",
    "\n"
   ]
  },
  {
   "cell_type": "code",
   "execution_count": 60,
   "id": "56d54706-681a-42ce-97e3-3560313f6a22",
   "metadata": {},
   "outputs": [
    {
     "name": "stdout",
     "output_type": "stream",
     "text": [
      "{'electronics': 2000, 'clothing': 800}\n"
     ]
    }
   ],
   "source": [
    "sales = [\n",
    "    {\"category\": \"electronics\", \"amount\": 1200},\n",
    "    {\"category\": \"clothing\", \"amount\": 300},\n",
    "    {\"category\": \"electronics\", \"amount\": 800},\n",
    "    {\"category\": \"clothing\", \"amount\": 500},\n",
    "    \n",
    "]\n",
    "\n",
    "# Initialize an empty dictionary to store aggregated sales\n",
    "sales_summary = {}\n",
    "\n",
    "# Loop through each sale\n",
    "for sale in sales:\n",
    "    category = sale[\"category\"]\n",
    "    amount = sale[\"amount\"]\n",
    "    if category in sales_summary:\n",
    "        sales_summary[category] += amount  # Add to existing category\n",
    "    else:\n",
    "        sales_summary[category] = amount  # Create a new category\n",
    "\n",
    "print(sales_summary)  # Output: {'electronics': 2000, 'clothing': 300}\n"
   ]
  },
  {
   "cell_type": "markdown",
   "id": "e1ad087b-a12a-49de-8846-75accf110633",
   "metadata": {},
   "source": [
    "<h2>4. Configuration Files and Metadata Extraction</h2>\n",
    "\n",
    "Quickly extract specific fields from JSON or configurations."
   ]
  },
  {
   "cell_type": "code",
   "execution_count": 33,
   "id": "41c6a273-defe-48a3-8dd4-8f7e7e1b1909",
   "metadata": {},
   "outputs": [
    {
     "name": "stdout",
     "output_type": "stream",
     "text": [
      "{'debug'}\n"
     ]
    }
   ],
   "source": [
    "config = {\n",
    "    \"app_name\": \"MyApp\",\n",
    "    \"version\": \"1.0.0\",\n",
    "    \"debug\": True,\n",
    "    \"allowed_hosts\": [\"example.com\", \"localhost\"]\n",
    "}\n",
    "# Extract keys for debugging\n",
    "debug_keys = {key for key in config if key.startswith(\"debug\")}\n",
    "print(debug_keys)  # Output: {'debug'}\n"
   ]
  },
  {
   "cell_type": "markdown",
   "id": "45d7c5f5-7c18-47d6-bc01-fb1bd7b1489f",
   "metadata": {},
   "source": [
    "<h2>5. Processing Large Datasets</h2>\n",
    "\n",
    "\n",
    "Efficiently process large datasets for analytics.\n",
    "\n",
    "Use Case: Extract Top-Performing Students"
   ]
  },
  {
   "cell_type": "code",
   "execution_count": 34,
   "id": "3fc693b4-25db-4992-b2cd-84d61804c26a",
   "metadata": {},
   "outputs": [
    {
     "name": "stdout",
     "output_type": "stream",
     "text": [
      "['Bob', 'David']\n"
     ]
    }
   ],
   "source": [
    "students = [\n",
    "    {\"name\": \"Alice\", \"score\": 85},\n",
    "    {\"name\": \"Bob\", \"score\": 92},\n",
    "    {\"name\": \"Charlie\", \"score\": 78},\n",
    "    {\"name\": \"David\", \"score\": 95}\n",
    "]\n",
    "# Get names of students with scores above 90\n",
    "top_students = [student[\"name\"] for student in students if student[\"score\"] > 90]\n",
    "print(top_students)  # Output: ['Bob', 'David']\n"
   ]
  },
  {
   "cell_type": "markdown",
   "id": "1ce0361a-b399-4646-9a01-98476e45f7e9",
   "metadata": {},
   "source": [
    "<h1>Why Use Comprehensions in Production?</h1>\n",
    "\n",
    "Conciseness: They reduce boilerplate code.\n",
    "\n",
    "Efficiency: Generally faster than traditional loops.\n",
    "\n",
    "Readability: Easier to understand for common operations like filtering, mapping, and aggregating."
   ]
  },
  {
   "cell_type": "markdown",
   "id": "c3952308-8839-4c8f-b1d0-0662dd8a2c8b",
   "metadata": {},
   "source": [
    "<h1>Deep copy AND Shallow copy</h1>\n",
    "In Python, shallow copy and deep copy are two ways to duplicate objects, but they handle object references differently.\n",
    "\n",
    "<h2>1. Shallow Copy</h2>\n",
    "A shallow copy creates a new object but does not create copies of nested objects (e.g., lists within a list). Instead, it copies references to the nested objects."
   ]
  },
  {
   "cell_type": "code",
   "execution_count": 35,
   "id": "42a680f9-dea6-4a0f-9aa4-dad74abd28cf",
   "metadata": {},
   "outputs": [
    {
     "name": "stdout",
     "output_type": "stream",
     "text": [
      "Original: [[99, 2, 3], [4, 5, 6]]\n",
      "Shallow Copy: [[99, 2, 3], [4, 5, 6]]\n"
     ]
    }
   ],
   "source": [
    "import copy\n",
    "\n",
    "# Original list with nested list\n",
    "original = [[1, 2, 3], [4, 5, 6]]\n",
    "\n",
    "# Create a shallow copy\n",
    "shallow_copied = copy.copy(original)\n",
    "\n",
    "# Modify a nested list in the shallow copy\n",
    "shallow_copied[0][0] = 99\n",
    "\n",
    "print(\"Original:\", original)         # Output: [[99, 2, 3], [4, 5, 6]]\n",
    "print(\"Shallow Copy:\", shallow_copied)  # Output: [[99, 2, 3], [4, 5, 6]]\n"
   ]
  },
  {
   "cell_type": "code",
   "execution_count": 36,
   "id": "d91bbb9c-899b-4e19-a99d-17186ab2ff12",
   "metadata": {},
   "outputs": [],
   "source": [
    "shallow_copied[0]=[0,0,0]"
   ]
  },
  {
   "cell_type": "code",
   "execution_count": 37,
   "id": "3a448ff1-1bfc-49b7-aabe-901c8ed53544",
   "metadata": {},
   "outputs": [
    {
     "data": {
      "text/plain": [
       "[[99, 2, 3], [4, 5, 6]]"
      ]
     },
     "execution_count": 37,
     "metadata": {},
     "output_type": "execute_result"
    }
   ],
   "source": [
    "original"
   ]
  },
  {
   "cell_type": "code",
   "execution_count": 38,
   "id": "c834e931-8e28-4e33-981c-066220fe258c",
   "metadata": {},
   "outputs": [
    {
     "data": {
      "text/plain": [
       "[[0, 0, 0], [4, 5, 6]]"
      ]
     },
     "execution_count": 38,
     "metadata": {},
     "output_type": "execute_result"
    }
   ],
   "source": [
    "shallow_copied"
   ]
  },
  {
   "cell_type": "code",
   "execution_count": 39,
   "id": "de9d0b65-6ac9-4f5a-9023-6bdb693745c9",
   "metadata": {},
   "outputs": [],
   "source": [
    "shallow_copied[1][0]=7"
   ]
  },
  {
   "cell_type": "code",
   "execution_count": 40,
   "id": "d31b7738-9185-432c-b68a-e7294b69601c",
   "metadata": {},
   "outputs": [
    {
     "data": {
      "text/plain": [
       "[[99, 2, 3], [7, 5, 6]]"
      ]
     },
     "execution_count": 40,
     "metadata": {},
     "output_type": "execute_result"
    }
   ],
   "source": [
    "original\n"
   ]
  },
  {
   "cell_type": "code",
   "execution_count": 41,
   "id": "0e112c40-cd40-4e8b-849d-e3cf41107b85",
   "metadata": {},
   "outputs": [
    {
     "data": {
      "text/plain": [
       "[[0, 0, 0], [7, 5, 6]]"
      ]
     },
     "execution_count": 41,
     "metadata": {},
     "output_type": "execute_result"
    }
   ],
   "source": [
    "shallow_copied"
   ]
  },
  {
   "cell_type": "code",
   "execution_count": 42,
   "id": "98fe3a47-74e0-4525-9217-5a33fd212f33",
   "metadata": {},
   "outputs": [],
   "source": [
    "shallow_copied[0][1]=10"
   ]
  },
  {
   "cell_type": "code",
   "execution_count": 43,
   "id": "bed30c9d-a0f6-4e4f-8ffe-657f56947f97",
   "metadata": {},
   "outputs": [
    {
     "data": {
      "text/plain": [
       "[[99, 2, 3], [7, 5, 6]]"
      ]
     },
     "execution_count": 43,
     "metadata": {},
     "output_type": "execute_result"
    }
   ],
   "source": [
    "original"
   ]
  },
  {
   "cell_type": "code",
   "execution_count": 44,
   "id": "bbb9888b-c968-444b-b579-56658b1e3a38",
   "metadata": {},
   "outputs": [
    {
     "data": {
      "text/plain": [
       "[[0, 10, 0], [7, 5, 6]]"
      ]
     },
     "execution_count": 44,
     "metadata": {},
     "output_type": "execute_result"
    }
   ],
   "source": [
    "shallow_copied"
   ]
  },
  {
   "cell_type": "markdown",
   "id": "0f372361-88b7-4a8d-8bdc-dc81d5be93f9",
   "metadata": {},
   "source": [
    "<h2>Key Points:</h2>\n",
    "\n",
    "The outer structure (list) is copied.\n",
    "\n",
    "Nested objects (inner lists) are referenced, not copied.\n",
    "\n",
    "Changes to nested objects in the shallow copy affect the original object.\n"
   ]
  },
  {
   "cell_type": "markdown",
   "id": "ee8e3d92-291d-478e-ba18-ec6aa5085d92",
   "metadata": {},
   "source": [
    "<h2>2. Deep Copy</h2>\n",
    "A deep copy creates a new object and recursively copies all nested objects, ensuring complete independence from the original object."
   ]
  },
  {
   "cell_type": "code",
   "execution_count": 45,
   "id": "b517ea88-86e0-42b6-a3c0-ac35862adbed",
   "metadata": {},
   "outputs": [
    {
     "name": "stdout",
     "output_type": "stream",
     "text": [
      "Original: [[1, 2, 3], [4, 5, 6]]\n",
      "Deep Copy: [[99, 2, 3], [4, 5, 6]]\n"
     ]
    }
   ],
   "source": [
    "import copy\n",
    "\n",
    "# Original list with nested list\n",
    "original = [[1, 2, 3], [4, 5, 6]]\n",
    "\n",
    "# Create a deep copy\n",
    "deep_copied = copy.deepcopy(original)\n",
    "\n",
    "# Modify a nested list in the deep copy\n",
    "deep_copied[0][0] = 99\n",
    "\n",
    "print(\"Original:\", original)         # Output: [[1, 2, 3], [4, 5, 6]]\n",
    "print(\"Deep Copy:\", deep_copied)     # Output: [[99, 2, 3], [4, 5, 6]]\n"
   ]
  },
  {
   "cell_type": "code",
   "execution_count": 46,
   "id": "3be95ee4-766a-4b06-ac68-bb43a4fa1145",
   "metadata": {},
   "outputs": [],
   "source": [
    "deep_copied[0]=[0,0,0]"
   ]
  },
  {
   "cell_type": "code",
   "execution_count": 47,
   "id": "efc9b88e-f34a-4290-b07a-12538a4bf8e5",
   "metadata": {},
   "outputs": [
    {
     "data": {
      "text/plain": [
       "[[1, 2, 3], [4, 5, 6]]"
      ]
     },
     "execution_count": 47,
     "metadata": {},
     "output_type": "execute_result"
    }
   ],
   "source": [
    "original"
   ]
  },
  {
   "cell_type": "code",
   "execution_count": 48,
   "id": "e5e3e312-46ed-46cc-972d-e40c95d8c607",
   "metadata": {},
   "outputs": [
    {
     "data": {
      "text/plain": [
       "[[0, 0, 0], [4, 5, 6]]"
      ]
     },
     "execution_count": 48,
     "metadata": {},
     "output_type": "execute_result"
    }
   ],
   "source": [
    "deep_copied"
   ]
  },
  {
   "cell_type": "code",
   "execution_count": 49,
   "id": "83f9cf30-8408-4212-a331-3a80860b9288",
   "metadata": {},
   "outputs": [],
   "source": [
    "deep_copied[1][1]=10"
   ]
  },
  {
   "cell_type": "code",
   "execution_count": 50,
   "id": "3a436092-76c3-4580-8ec7-41ac1fdc1dc4",
   "metadata": {},
   "outputs": [
    {
     "data": {
      "text/plain": [
       "[[0, 0, 0], [4, 10, 6]]"
      ]
     },
     "execution_count": 50,
     "metadata": {},
     "output_type": "execute_result"
    }
   ],
   "source": [
    "deep_copied"
   ]
  },
  {
   "cell_type": "code",
   "execution_count": 51,
   "id": "b3c588d8-00b6-4a86-962e-b81ca04d7465",
   "metadata": {},
   "outputs": [
    {
     "data": {
      "text/plain": [
       "[[1, 2, 3], [4, 5, 6]]"
      ]
     },
     "execution_count": 51,
     "metadata": {},
     "output_type": "execute_result"
    }
   ],
   "source": [
    "original"
   ]
  },
  {
   "cell_type": "markdown",
   "id": "25d84ca8-c3c2-49e4-88b4-123011c76557",
   "metadata": {},
   "source": [
    "<h2>Key Points:</h2>\n",
    "Both the outer structure and nested objects are copied.\n",
    "\n",
    "Changes to the deep copy do not affect the original object.\n",
    "\n",
    "<h1>When to Use Each?</h1>\n",
    "<h3>Shallow Copy:</h3>\n",
    "\n",
    "Use when the object has no nested structures, or you don't need independence for nested objects.\n",
    "Example: Copying a flat list or dictionary.\n",
    "<h3>Deep Copy:</h3>\n",
    "\n",
    "Use when you need complete independence between the original and copied objects, especially for objects with nested structures.\n",
    "Example: Copying a list of lists or a dictionary containing lists."
   ]
  },
  {
   "cell_type": "code",
   "execution_count": null,
   "id": "7bbaecf9-3ade-46ef-8b2e-dc85ff1e6a5c",
   "metadata": {},
   "outputs": [],
   "source": []
  }
 ],
 "metadata": {
  "kernelspec": {
   "display_name": "Python 3 (ipykernel)",
   "language": "python",
   "name": "python3"
  },
  "language_info": {
   "codemirror_mode": {
    "name": "ipython",
    "version": 3
   },
   "file_extension": ".py",
   "mimetype": "text/x-python",
   "name": "python",
   "nbconvert_exporter": "python",
   "pygments_lexer": "ipython3",
   "version": "3.11.7"
  }
 },
 "nbformat": 4,
 "nbformat_minor": 5
}
