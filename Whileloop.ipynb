{
 "cells": [
  {
   "cell_type": "code",
   "execution_count": 1,
   "id": "b31d4c89-d2a7-44b3-b0ce-1f88640dd081",
   "metadata": {},
   "outputs": [
    {
     "name": "stdout",
     "output_type": "stream",
     "text": [
      "1\n",
      "2\n",
      "3\n",
      "4\n",
      "5\n",
      "6\n",
      "7\n",
      "8\n",
      "9\n",
      "10\n"
     ]
    }
   ],
   "source": [
    "#1. Print numbers from 1 to 10 using a while loop\\\n",
    "i = 1\n",
    "while i <= 10:\n",
    "    print(i)\n",
    "    i += 1\n"
   ]
  },
  {
   "cell_type": "code",
   "execution_count": 2,
   "id": "461971c7-642c-4def-8988-49199be1732b",
   "metadata": {},
   "outputs": [
    {
     "name": "stdout",
     "output_type": "stream",
     "text": [
      "Sum of first 5 natural numbers is: 15\n"
     ]
    }
   ],
   "source": [
    "#. Sum of first N natural numbers using a while loop\n",
    "n = 5  # You can change this to any value of N\n",
    "i = 1\n",
    "total_sum = 0\n",
    "while i <= n:\n",
    "    total_sum += i\n",
    "    i += 1\n",
    "print(f\"Sum of first {n} natural numbers is:\", total_sum)\n"
   ]
  },
  {
   "cell_type": "code",
   "execution_count": 3,
   "id": "e44bb39b-7519-48cb-a6a8-2f4606dc0b29",
   "metadata": {},
   "outputs": [
    {
     "name": "stdout",
     "output_type": "stream",
     "text": [
      "2\n",
      "4\n",
      "6\n",
      "8\n",
      "10\n",
      "12\n",
      "14\n",
      "16\n",
      "18\n",
      "20\n"
     ]
    }
   ],
   "source": [
    "#Print the even numbers between 1 and 20 using a while loop\n",
    "i = 1\n",
    "while i <= 20:\n",
    "    if i % 2 == 0:\n",
    "        print(i)\n",
    "    i += 1\n"
   ]
  },
  {
   "cell_type": "code",
   "execution_count": 4,
   "id": "5f7b4c28-dd96-4060-a233-99aadb349111",
   "metadata": {},
   "outputs": [
    {
     "name": "stdout",
     "output_type": "stream",
     "text": [
      "Factorial of 5 is: 120\n"
     ]
    }
   ],
   "source": [
    "# Find the factorial of a number using a while loop\n",
    "n = 5  # You can change this to any number\n",
    "i = 1\n",
    "factorial = 1\n",
    "while i <= n:\n",
    "    factorial *= i\n",
    "    i += 1\n",
    "print(f\"Factorial of {n} is:\", factorial)\n"
   ]
  },
  {
   "cell_type": "code",
   "execution_count": 5,
   "id": "6317898b-e4db-491f-83e8-77fdc525a15f",
   "metadata": {},
   "outputs": [
    {
     "name": "stdout",
     "output_type": "stream",
     "text": [
      "Reversed number is: 54321\n"
     ]
    }
   ],
   "source": [
    "#Reverse the digits of a number using a while loop\n",
    "num = 12345\n",
    "reverse_num = 0\n",
    "while num > 0:\n",
    "    digit = num % 10\n",
    "    reverse_num = reverse_num * 10 + digit\n",
    "    num = num // 10\n",
    "print(\"Reversed number is:\", reverse_num)\n"
   ]
  },
  {
   "cell_type": "code",
   "execution_count": 6,
   "id": "2fd32461-fe6b-4774-8f02-78af365c07ce",
   "metadata": {},
   "outputs": [
    {
     "name": "stdout",
     "output_type": "stream",
     "text": [
      "121 is a palindrome\n"
     ]
    }
   ],
   "source": [
    "#Check if a number is a palindrome using a while loop\n",
    "num = 121  # Change this to any number\n",
    "original_num = num\n",
    "reverse_num = 0\n",
    "\n",
    "while num > 0:\n",
    "    digit = num % 10\n",
    "    reverse_num = reverse_num * 10 + digit\n",
    "    num = num // 10\n",
    "\n",
    "if original_num == reverse_num:\n",
    "    print(f\"{original_num} is a palindrome\")\n",
    "else:\n",
    "    print(f\"{original_num} is not a palindrome\")\n"
   ]
  },
  {
   "cell_type": "code",
   "execution_count": 7,
   "id": "07056be9-75e1-4108-8376-7b1b452ebbb8",
   "metadata": {},
   "outputs": [
    {
     "name": "stdout",
     "output_type": "stream",
     "text": [
      "Sum of digits is: 10\n"
     ]
    }
   ],
   "source": [
    "#Find the sum of digits of a number using a while loop\n",
    "num = 1234\n",
    "sum_of_digits = 0\n",
    "while num > 0:\n",
    "    digit = num % 10\n",
    "    sum_of_digits += digit\n",
    "    num = num // 10\n",
    "print(\"Sum of digits is:\", sum_of_digits)\n"
   ]
  },
  {
   "cell_type": "code",
   "execution_count": 8,
   "id": "8c93e3e6-721c-476d-bd5d-9d7628264858",
   "metadata": {},
   "outputs": [
    {
     "data": {
      "text/plain": [
       "3"
      ]
     },
     "execution_count": 8,
     "metadata": {},
     "output_type": "execute_result"
    }
   ],
   "source": [
    "#Print the Fibonacci sequence up to N terms using a while loop\n",
    "n = 10  # Number of terms\n",
    "a, b = 0, 1\n",
    "count = 0\n",
    "while count < n:\n",
    "    print(a, end=\" \")\n",
    "    next_term = a + b\n",
    "    a = b\n",
    "    b = next_term\n",
    "    count += 1\n"
   ]
  },
  {
   "cell_type": "code",
   "execution_count": null,
   "id": "76a84a6d-c180-4ce7-99a2-40293fbf9c14",
   "metadata": {},
   "outputs": [],
   "source": []
  }
 ],
 "metadata": {
  "kernelspec": {
   "display_name": "Python 3 (ipykernel)",
   "language": "python",
   "name": "python3"
  },
  "language_info": {
   "codemirror_mode": {
    "name": "ipython",
    "version": 3
   },
   "file_extension": ".py",
   "mimetype": "text/x-python",
   "name": "python",
   "nbconvert_exporter": "python",
   "pygments_lexer": "ipython3",
   "version": "3.11.7"
  }
 },
 "nbformat": 4,
 "nbformat_minor": 5
}
