{
  "nbformat": 4,
  "nbformat_minor": 0,
  "metadata": {
    "colab": {
      "provenance": []
    },
    "kernelspec": {
      "name": "python3",
      "display_name": "Python 3"
    },
    "language_info": {
      "name": "python"
    }
  },
  "cells": [
    {
      "cell_type": "code",
      "execution_count": 1,
      "metadata": {
        "colab": {
          "base_uri": "https://localhost:8080/"
        },
        "id": "NM44ADm0119d",
        "outputId": "d812750d-bb83-4d46-ec3c-68f7247ed1bd"
      },
      "outputs": [
        {
          "output_type": "stream",
          "name": "stdout",
          "text": [
            "hello\n"
          ]
        }
      ],
      "source": [
        "print(\"hello\")"
      ]
    },
    {
      "cell_type": "code",
      "source": [
        "8+9"
      ],
      "metadata": {
        "colab": {
          "base_uri": "https://localhost:8080/"
        },
        "id": "SjTgLF_N1519",
        "outputId": "37fe34ae-34c4-435a-9b97-5732374ce68e"
      },
      "execution_count": 2,
      "outputs": [
        {
          "output_type": "execute_result",
          "data": {
            "text/plain": [
              "17"
            ]
          },
          "metadata": {},
          "execution_count": 2
        }
      ]
    },
    {
      "cell_type": "code",
      "source": [
        "a=int(input('enter number: '))\n",
        "if a==10:\n",
        "  print(\"hello\")\n",
        "else:\n",
        "  print(\"bye\")\n",
        "\n"
      ],
      "metadata": {
        "colab": {
          "base_uri": "https://localhost:8080/"
        },
        "id": "GX9BtbpW18Z8",
        "outputId": "fc4e23c1-aa21-46ee-c80e-f5cdac70f104"
      },
      "execution_count": 4,
      "outputs": [
        {
          "output_type": "stream",
          "name": "stdout",
          "text": [
            "enter number: 12\n",
            "bye\n"
          ]
        }
      ]
    },
    {
      "cell_type": "code",
      "source": [
        "a=input('enter name: ')\n",
        "print(\"hello\",a)"
      ],
      "metadata": {
        "colab": {
          "base_uri": "https://localhost:8080/"
        },
        "id": "N1N4WfAh2Lhn",
        "outputId": "290db37c-c356-4260-9247-d4fba1e1d410"
      },
      "execution_count": 5,
      "outputs": [
        {
          "output_type": "stream",
          "name": "stdout",
          "text": [
            "enter name: prachi\n",
            "hello prachi\n"
          ]
        }
      ]
    },
    {
      "cell_type": "code",
      "source": [
        "number = 10\n",
        "print(number)"
      ],
      "metadata": {
        "colab": {
          "base_uri": "https://localhost:8080/"
        },
        "id": "fNa2SD0X2ckZ",
        "outputId": "e4208f2e-6893-40cd-cb3b-1fd2efa3b132"
      },
      "execution_count": 6,
      "outputs": [
        {
          "output_type": "stream",
          "name": "stdout",
          "text": [
            "10\n"
          ]
        }
      ]
    },
    {
      "cell_type": "code",
      "source": [
        "num = input(\"enter number: \")\n",
        "print(num)\n",
        "print(type(num))"
      ],
      "metadata": {
        "colab": {
          "base_uri": "https://localhost:8080/"
        },
        "id": "h78JSubS8iMx",
        "outputId": "0e6778b5-6bb6-4343-d936-e1aa8de34d81"
      },
      "execution_count": 7,
      "outputs": [
        {
          "output_type": "stream",
          "name": "stdout",
          "text": [
            "enter number: 10\n",
            "10\n",
            "<class 'str'>\n"
          ]
        }
      ]
    },
    {
      "cell_type": "code",
      "source": [
        "name = input(\"enter your name :\")\n",
        "print(\"Hello\",name)\n",
        "print(type(name))"
      ],
      "metadata": {
        "colab": {
          "base_uri": "https://localhost:8080/"
        },
        "id": "p1eu5abp85xs",
        "outputId": "166d848a-3800-4ef8-e4c0-672dd780f1bc"
      },
      "execution_count": 10,
      "outputs": [
        {
          "output_type": "stream",
          "name": "stdout",
          "text": [
            "enter your name :Ankita\n",
            "Hello Ankita\n",
            "<class 'str'>\n"
          ]
        }
      ]
    },
    {
      "cell_type": "code",
      "source": [
        "num1=int(input(\"enter your first number:\"))\n",
        "num2=int(input(\"enter your second number:\"))\n",
        "print(num1+num2)"
      ],
      "metadata": {
        "colab": {
          "base_uri": "https://localhost:8080/"
        },
        "id": "Z00kWrVv9iSd",
        "outputId": "471c5819-6f15-4661-fac9-ff97352b2f9f"
      },
      "execution_count": 12,
      "outputs": [
        {
          "output_type": "stream",
          "name": "stdout",
          "text": [
            "enter your first number:12\n",
            "enter your second number:10\n",
            "22\n"
          ]
        }
      ]
    },
    {
      "cell_type": "code",
      "source": [
        "a = input(\"enter a name:\")"
      ],
      "metadata": {
        "colab": {
          "base_uri": "https://localhost:8080/"
        },
        "id": "Swfuc5P4-RiM",
        "outputId": "4b6f4048-dadb-4831-b937-ed14c0642aa6"
      },
      "execution_count": 13,
      "outputs": [
        {
          "name": "stdout",
          "output_type": "stream",
          "text": [
            "enter a name:prachi\n"
          ]
        }
      ]
    },
    {
      "cell_type": "code",
      "source": [
        "print(type(a))"
      ],
      "metadata": {
        "colab": {
          "base_uri": "https://localhost:8080/"
        },
        "id": "2Ci532Ly_25G",
        "outputId": "7ed6d441-4f96-4bc5-9f0d-c1847dd8b904"
      },
      "execution_count": 14,
      "outputs": [
        {
          "output_type": "stream",
          "name": "stdout",
          "text": [
            "<class 'str'>\n"
          ]
        }
      ]
    },
    {
      "cell_type": "code",
      "source": [
        "a = eval(input(\"enter a number:\"))"
      ],
      "metadata": {
        "colab": {
          "base_uri": "https://localhost:8080/"
        },
        "id": "257_ob-A_5yK",
        "outputId": "f6566238-6f05-4987-ea6f-c4e0dcde26c6"
      },
      "execution_count": 19,
      "outputs": [
        {
          "name": "stdout",
          "output_type": "stream",
          "text": [
            "enter a number:\"prachi\"\n"
          ]
        }
      ]
    },
    {
      "cell_type": "code",
      "source": [
        "type(a)"
      ],
      "metadata": {
        "colab": {
          "base_uri": "https://localhost:8080/"
        },
        "id": "6w_IRDcD__ig",
        "outputId": "9772a992-bb5c-4fd0-81b0-de1dead89bc0"
      },
      "execution_count": 20,
      "outputs": [
        {
          "output_type": "execute_result",
          "data": {
            "text/plain": [
              "str"
            ]
          },
          "metadata": {},
          "execution_count": 20
        }
      ]
    },
    {
      "cell_type": "code",
      "source": [
        "age = int(input(\"enter your age:\"))\n",
        "\n",
        "if age >=18:\n",
        "  print(\"you are eligible to vote\")\n",
        "\n",
        "else:\n",
        "  print(\"you are not eligible to vote\")\n",
        "\n"
      ],
      "metadata": {
        "colab": {
          "base_uri": "https://localhost:8080/"
        },
        "id": "ScQGC3RBACro",
        "outputId": "0d4f863c-7755-41a4-d2d2-06cd4f806a35"
      },
      "execution_count": 24,
      "outputs": [
        {
          "output_type": "stream",
          "name": "stdout",
          "text": [
            "enter your age:12\n",
            "you are not eligible to vote\n"
          ]
        }
      ]
    },
    {
      "cell_type": "code",
      "source": [
        "marks = float(input(\"enter your marks:\"))\n",
        "\n",
        "if marks >= 90:\n",
        "  print(\"Grade A\")\n",
        "\n",
        "elif marks >= 80:\n",
        "  print(\"Grade B\")\n",
        "\n",
        "elif marks >= 70:\n",
        "  print(\"Grade C\")\n",
        "\n",
        "else:\n",
        "  print(\"Grade D\")"
      ],
      "metadata": {
        "colab": {
          "base_uri": "https://localhost:8080/"
        },
        "id": "LpFKL8fjB4Dr",
        "outputId": "2d0da855-cd52-4cc5-d473-34dda2ff9899"
      },
      "execution_count": 27,
      "outputs": [
        {
          "output_type": "stream",
          "name": "stdout",
          "text": [
            "enter your marks:85\n",
            "Grade B\n"
          ]
        }
      ]
    },
    {
      "cell_type": "code",
      "source": [
        "num = int(input(\"Enter a number: \"))\n",
        "\n",
        "if num >0:\n",
        "  if num%2==0:\n",
        "    print(\"Number is positive and even\")\n",
        "\n",
        "  elif num%2!=0:\n",
        "    print(\"Number is positive and odd\")\n",
        "  else:\n",
        "    print(\"number is zero...\")\n",
        "else:\n",
        "  print(\"Number is negative\")"
      ],
      "metadata": {
        "colab": {
          "base_uri": "https://localhost:8080/"
        },
        "id": "6XAuvI4yDMg1",
        "outputId": "b49b086f-2679-41ae-9850-78a5575d7bb5"
      },
      "execution_count": 34,
      "outputs": [
        {
          "output_type": "stream",
          "name": "stdout",
          "text": [
            "Enter a number: 0\n",
            "Number is positive and even\n"
          ]
        }
      ]
    },
    {
      "cell_type": "code",
      "source": [
        "number = int(input(\"enter your number: \"))\n",
        "\n",
        "if number%2==0:\n",
        "\n",
        "  print(\"number is even\")\n",
        "else:\n",
        "  print(\"number is odd\")"
      ],
      "metadata": {
        "colab": {
          "base_uri": "https://localhost:8080/"
        },
        "id": "vLhHMj0xE0UJ",
        "outputId": "319f3b53-3994-4b9b-ca6c-08db8e74273a"
      },
      "execution_count": 35,
      "outputs": [
        {
          "output_type": "stream",
          "name": "stdout",
          "text": [
            "enter your number: 77\n",
            "number is odd\n"
          ]
        }
      ]
    },
    {
      "cell_type": "code",
      "source": [
        "result = \"number is even\" if number%2==0 else \"number is odd\"\n",
        "print(result)"
      ],
      "metadata": {
        "colab": {
          "base_uri": "https://localhost:8080/"
        },
        "id": "5hLeEqQnHg8K",
        "outputId": "01f914e5-5b23-4cc3-fd56-cfb95a718d73"
      },
      "execution_count": 36,
      "outputs": [
        {
          "output_type": "stream",
          "name": "stdout",
          "text": [
            "number is odd\n"
          ]
        }
      ]
    },
    {
      "cell_type": "code",
      "source": [
        "age = int(input(\"enter your age: \"))\n",
        "\n",
        "if age < 18:\n",
        "  if age >=13:\n",
        "    print(\"you are a teenager\")\n",
        "  elif age <13 and age>0:\n",
        "    print(\"you are a child\")\n",
        "  else:\n",
        "    print(\"please enter the correct age\")\n",
        "else:\n",
        "  if age < 50:\n",
        "    print(\"you are an adult\")\n",
        "  else:\n",
        "    print(\"you are a senior citizen\")\n",
        "\n",
        "\n",
        "\n"
      ],
      "metadata": {
        "colab": {
          "base_uri": "https://localhost:8080/"
        },
        "id": "_uOzwWyzH01S",
        "outputId": "c3b1005d-24c2-4d3f-8277-5d2278f87dad"
      },
      "execution_count": 47,
      "outputs": [
        {
          "output_type": "stream",
          "name": "stdout",
          "text": [
            "enter your age: 27\n",
            "you are an adult\n"
          ]
        }
      ]
    },
    {
      "cell_type": "code",
      "source": [],
      "metadata": {
        "id": "Gtay84hGKXnF"
      },
      "execution_count": null,
      "outputs": []
    }
  ]
}