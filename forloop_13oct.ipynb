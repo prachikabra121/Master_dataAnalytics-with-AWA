{
 "cells": [
  {
   "cell_type": "code",
   "execution_count": 1,
   "id": "0aeeebb8-025f-48a2-bb61-93be9b8e71e4",
   "metadata": {},
   "outputs": [
    {
     "name": "stdout",
     "output_type": "stream",
     "text": [
      "1\n",
      "2\n",
      "3\n",
      "4\n",
      "5\n"
     ]
    }
   ],
   "source": [
    "#Program that creates a list of 5 numbers and prints each number using a for loop:\n",
    "numbers = [1, 2, 3, 4, 5]\n",
    "for number in numbers:\n",
    "    print(number)\n"
   ]
  },
  {
   "cell_type": "code",
   "execution_count": 2,
   "id": "d3d584f3-db4d-4a79-9030-f5e755e968c7",
   "metadata": {},
   "outputs": [
    {
     "name": "stdout",
     "output_type": "stream",
     "text": [
      "Sum of all elements: 15\n"
     ]
    }
   ],
   "source": [
    "#Program that calculates the sum of all elements in a list of numbers using a loop:\n",
    "numbers = [1, 2, 3, 4, 5]\n",
    "total_sum = 0\n",
    "for number in numbers:\n",
    "    total_sum += number\n",
    "print(\"Sum of all elements:\", total_sum)\n"
   ]
  },
  {
   "cell_type": "code",
   "execution_count": 3,
   "id": "2ac57883-fe2c-4ba4-9fdd-769173821775",
   "metadata": {},
   "outputs": [
    {
     "name": "stdout",
     "output_type": "stream",
     "text": [
      "Maximum number: 30\n"
     ]
    }
   ],
   "source": [
    "#Program that finds the maximum number in a list using a loop:\n",
    "numbers = [10, 25, 14, 7, 30]\n",
    "max_number = numbers[0]\n",
    "for number in numbers:\n",
    "    if number > max_number:\n",
    "        max_number = number\n",
    "print(\"Maximum number:\", max_number)\n"
   ]
  },
  {
   "cell_type": "code",
   "execution_count": 4,
   "id": "aea6ea12-3411-4038-b1d6-1aff8d2bdf5d",
   "metadata": {},
   "outputs": [
    {
     "name": "stdout",
     "output_type": "stream",
     "text": [
      "apple\n",
      "banana\n",
      "cherry\n"
     ]
    }
   ],
   "source": [
    "#Program to create a tuple of strings and print each element using a for loop:\n",
    "my_tuple = (\"apple\", \"banana\", \"cherry\")\n",
    "for fruit in my_tuple:\n",
    "    print(fruit)\n"
   ]
  },
  {
   "cell_type": "code",
   "execution_count": 5,
   "id": "37e0ed8e-2ff9-4771-800f-c8a7ea967e09",
   "metadata": {},
   "outputs": [
    {
     "name": "stdout",
     "output_type": "stream",
     "text": [
      "Concatenated string: Hello World Python\n"
     ]
    }
   ],
   "source": [
    "#Program that concatenates all elements in a tuple of strings into a single string using a loop:\n",
    "my_tuple = (\"Hello\", \"World\", \"Python\")\n",
    "result = \"\"\n",
    "for word in my_tuple:\n",
    "    result += word + \" \"\n",
    "print(\"Concatenated string:\", result.strip())\n"
   ]
  },
  {
   "cell_type": "code",
   "execution_count": 6,
   "id": "f2d6d2d6-d1c4-4704-80d5-b250398ec15f",
   "metadata": {},
   "outputs": [
    {
     "name": "stdout",
     "output_type": "stream",
     "text": [
      "Reversed tuple: (5, 4, 3, 2, 1)\n"
     ]
    }
   ],
   "source": [
    "#Program that reverses the elements of a tuple using a loop:\n",
    "my_tuple = (1, 2, 3, 4, 5)\n",
    "reversed_tuple = []\n",
    "for i in range(len(my_tuple)-1, -1, -1):\n",
    "    reversed_tuple.append(my_tuple[i])\n",
    "print(\"Reversed tuple:\", tuple(reversed_tuple))\n"
   ]
  },
  {
   "cell_type": "code",
   "execution_count": 7,
   "id": "b61302a1-aea5-4f31-9f68-833ee7c7d729",
   "metadata": {},
   "outputs": [
    {
     "name": "stdout",
     "output_type": "stream",
     "text": [
      "Alice: 85\n",
      "Bob: 78\n",
      "Charlie: 92\n"
     ]
    }
   ],
   "source": [
    "#Program to print each student's name and their score from a dictionary using a loop:\n",
    "students = {\"Alice\": 85, \"Bob\": 78, \"Charlie\": 92}\n",
    "for name, score in students.items():\n",
    "    print(f\"{name}: {score}\")\n"
   ]
  },
  {
   "cell_type": "code",
   "execution_count": 8,
   "id": "56a7e6f1-8a87-4ce5-9ec6-83318278e4a5",
   "metadata": {},
   "outputs": [
    {
     "name": "stdout",
     "output_type": "stream",
     "text": [
      "Sum of all scores: 255\n"
     ]
    }
   ],
   "source": [
    "#Program that calculates the sum of all the values in a dictionary using a loop:\n",
    "students = {\"Alice\": 85, \"Bob\": 78, \"Charlie\": 92}\n",
    "total_score = 0\n",
    "for score in students.values():\n",
    "    total_score += score\n",
    "print(\"Sum of all scores:\", total_score)\n"
   ]
  },
  {
   "cell_type": "code",
   "execution_count": 9,
   "id": "06d0633b-d5e9-40dd-b175-57b6f3037810",
   "metadata": {},
   "outputs": [
    {
     "name": "stdout",
     "output_type": "stream",
     "text": [
      "Top student is Charlie with a score of 92\n"
     ]
    }
   ],
   "source": [
    "#Program that finds the student with the highest score from a dictionary using a loop:\n",
    "students = {\"Alice\": 85, \"Bob\": 78, \"Charlie\": 92}\n",
    "highest_score = 0\n",
    "top_student = \"\"\n",
    "for name, score in students.items():\n",
    "    if score > highest_score:\n",
    "        highest_score = score\n",
    "        top_student = name\n",
    "print(f\"Top student is {top_student} with a score of {highest_score}\")\n"
   ]
  },
  {
   "cell_type": "code",
   "execution_count": 10,
   "id": "994b31f4-cdc9-4c6a-9576-dcff59f9845e",
   "metadata": {},
   "outputs": [
    {
     "name": "stdout",
     "output_type": "stream",
     "text": [
      "{'pass': ['Alice', 'Charlie'], 'fail': ['Bob', 'Dave']}\n"
     ]
    }
   ],
   "source": [
    "#Program that groups students based on their scores as 'pass' or 'fail' using a loop:\n",
    "students = [(\"Alice\", 85), (\"Bob\", 45), (\"Charlie\", 78), (\"Dave\", 30)]\n",
    "result = {\"pass\": [], \"fail\": []}\n",
    "\n",
    "for name, score in students:\n",
    "    if score >= 50:\n",
    "        result[\"pass\"].append(name)\n",
    "    else:\n",
    "        result[\"fail\"].append(name)\n",
    "\n",
    "print(result)\n"
   ]
  },
  {
   "cell_type": "code",
   "execution_count": 11,
   "id": "da095430-d721-4e8c-af06-eaa3ae472fbe",
   "metadata": {},
   "outputs": [
    {
     "name": "stdout",
     "output_type": "stream",
     "text": [
      "Common elements: [3, 4, 5]\n"
     ]
    }
   ],
   "source": [
    "#Program that finds the common elements between a list and a tuple using a loop:\n",
    "my_list = [1, 2, 3, 4, 5]\n",
    "my_tuple = (3, 4, 5, 6, 7)\n",
    "\n",
    "common_elements = []\n",
    "for element in my_list:\n",
    "    if element in my_tuple:\n",
    "        common_elements.append(element)\n",
    "\n",
    "print(\"Common elements:\", common_elements)\n"
   ]
  },
  {
   "cell_type": "code",
   "execution_count": 12,
   "id": "b3e4e48e-93dd-4861-810c-8a3d60ebaa79",
   "metadata": {},
   "outputs": [
    {
     "name": "stdout",
     "output_type": "stream",
     "text": [
      "\n",
      "*\n",
      "**\n",
      "***\n",
      "****\n"
     ]
    }
   ],
   "source": [
    "# Right-Angle Triangle Star Pattern\n",
    "\n",
    "for i in range(5):\n",
    "    print(\"*\" * i)"
   ]
  },
  {
   "cell_type": "code",
   "execution_count": 14,
   "id": "7e4363db-3ae0-4748-9a29-823308f6090d",
   "metadata": {},
   "outputs": [
    {
     "name": "stdout",
     "output_type": "stream",
     "text": [
      "*****\n",
      "****\n",
      "***\n",
      "**\n",
      "*\n"
     ]
    }
   ],
   "source": [
    "# Inverted Right-Angle Triangle Star Pattern\n",
    "for i in range(5):\n",
    "    print(\"*\" * (5-i))\n"
   ]
  },
  {
   "cell_type": "code",
   "execution_count": 15,
   "id": "32e09708-1add-4317-848a-c790da5ada88",
   "metadata": {},
   "outputs": [
    {
     "name": "stdout",
     "output_type": "stream",
     "text": [
      "*****\n",
      "****\n",
      "***\n",
      "**\n",
      "*\n"
     ]
    }
   ],
   "source": [
    "for i in range(5,0,-1):\n",
    "    print(\"*\"*i)"
   ]
  },
  {
   "cell_type": "code",
   "execution_count": 16,
   "id": "5853b479-c6b7-4f21-b374-4210c3ad30a7",
   "metadata": {},
   "outputs": [
    {
     "name": "stdout",
     "output_type": "stream",
     "text": [
      "    *\n",
      "   ***\n",
      "  *****\n",
      " *******\n",
      "*********\n"
     ]
    }
   ],
   "source": [
    "#Pyramid Star Pattern\n",
    "n = 5\n",
    "for i in range(1, n+1):\n",
    "    print(' ' * (n-i) + '*' * (2*i-1))\n"
   ]
  },
  {
   "cell_type": "code",
   "execution_count": 17,
   "id": "a14e8b39-bc4f-41ea-a3c2-0422162c4664",
   "metadata": {},
   "outputs": [
    {
     "name": "stdout",
     "output_type": "stream",
     "text": [
      "*********\n",
      " *******\n",
      "  *****\n",
      "   ***\n",
      "    *\n"
     ]
    }
   ],
   "source": [
    "#Inverted Pyramid Star Pattern\n",
    "n = 5\n",
    "for i in range(n, 0, -1):\n",
    "    print(' ' * (n-i) + '*' * (2*i-1))\n",
    "\n"
   ]
  },
  {
   "cell_type": "code",
   "execution_count": 18,
   "id": "b4231fe7-e07c-48dc-9dbc-010897ab283d",
   "metadata": {},
   "outputs": [
    {
     "name": "stdout",
     "output_type": "stream",
     "text": [
      "    *\n",
      "   ***\n",
      "  *****\n",
      " *******\n",
      "*********\n",
      " *******\n",
      "  *****\n",
      "   ***\n",
      "    *\n"
     ]
    }
   ],
   "source": [
    "#Diamond Pattern\n",
    "n = 5\n",
    "# Upper half of the diamond\n",
    "for i in range(1, n+1):\n",
    "    print(' ' * (n-i) + '*' * (2*i-1))\n",
    "# Lower half of the diamond\n",
    "for i in range(n-1, 0, -1):\n",
    "    print(' ' * (n-i) + '*' * (2*i-1))\n"
   ]
  },
  {
   "cell_type": "code",
   "execution_count": 19,
   "id": "a215e4ba-f50a-4900-b6af-f2090646bff5",
   "metadata": {},
   "outputs": [
    {
     "name": "stdout",
     "output_type": "stream",
     "text": [
      "    1\n",
      "   121\n",
      "  12321\n",
      " 1234321\n",
      "123454321\n"
     ]
    }
   ],
   "source": [
    "#Number Pyramid Pattern\n",
    "n = 5\n",
    "for i in range(1, n+1):\n",
    "    print(' ' * (n-i), end=\"\")\n",
    "    for j in range(1, i+1):\n",
    "        print(j, end=\"\")\n",
    "    for j in range(i-1, 0, -1):\n",
    "        print(j, end=\"\")\n",
    "    print()\n"
   ]
  },
  {
   "cell_type": "code",
   "execution_count": 20,
   "id": "dc9d63de-9446-429d-b8ef-f316cf1ac0db",
   "metadata": {},
   "outputs": [
    {
     "name": "stdout",
     "output_type": "stream",
     "text": [
      "1 \n",
      "2 3 \n",
      "4 5 6 \n",
      "7 8 9 10 \n",
      "11 12 13 14 15 \n"
     ]
    }
   ],
   "source": [
    "#Floyd's Triangle\n",
    "n = 5\n",
    "num = 1\n",
    "for i in range(1, n+1):\n",
    "    for j in range(1, i+1):\n",
    "        print(num, end=\" \")\n",
    "        num += 1\n",
    "    print()\n"
   ]
  },
  {
   "cell_type": "code",
   "execution_count": 21,
   "id": "666a5901-f77a-4e47-baae-cc1809910ac7",
   "metadata": {},
   "outputs": [
    {
     "name": "stdout",
     "output_type": "stream",
     "text": [
      "1\n",
      "12\n",
      "123\n",
      "1234\n",
      "12345\n"
     ]
    }
   ],
   "source": [
    "#Right-Angle Number Triangle\n",
    "n = 5\n",
    "for i in range(1, n+1):\n",
    "    for j in range(1, i+1):\n",
    "        print(j, end=\"\")\n",
    "    print()\n"
   ]
  },
  {
   "cell_type": "code",
   "execution_count": 22,
   "id": "1a35a338-6f28-4af7-a1b7-a4ae2dd32e1e",
   "metadata": {},
   "outputs": [
    {
     "name": "stdout",
     "output_type": "stream",
     "text": [
      "12345\n",
      "1234\n",
      "123\n",
      "12\n",
      "1\n"
     ]
    }
   ],
   "source": [
    "#Inverted Right-Angle Number Triangle\n",
    "n = 5\n",
    "for i in range(n, 0, -1):\n",
    "    for j in range(1, i+1):\n",
    "        print(j, end=\"\")\n",
    "    print()\n"
   ]
  },
  {
   "cell_type": "code",
   "execution_count": null,
   "id": "e70ab29e-067b-4b07-9d5f-e176376a366d",
   "metadata": {},
   "outputs": [],
   "source": []
  }
 ],
 "metadata": {
  "kernelspec": {
   "display_name": "Python 3 (ipykernel)",
   "language": "python",
   "name": "python3"
  },
  "language_info": {
   "codemirror_mode": {
    "name": "ipython",
    "version": 3
   },
   "file_extension": ".py",
   "mimetype": "text/x-python",
   "name": "python",
   "nbconvert_exporter": "python",
   "pygments_lexer": "ipython3",
   "version": "3.11.7"
  }
 },
 "nbformat": 4,
 "nbformat_minor": 5
}
